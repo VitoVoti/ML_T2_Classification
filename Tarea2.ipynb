{
 "cells": [
  {
   "cell_type": "code",
   "execution_count": 3,
   "metadata": {
    "collapsed": true
   },
   "outputs": [],
   "source": [
    "import pandas as pd\n",
    "import urllib\n",
    "import numpy as np\n",
    "import sklearn.linear_model as lm\n",
    "import matplotlib.pyplot as plt\n",
    "\n",
    "from pylab import rcParams\n",
    "rcParams['figure.figsize'] = 14, 4"
   ]
  },
  {
   "cell_type": "markdown",
   "metadata": {},
   "source": [
    "# <center>Tarea 2 Máquinas de Aprendizaje</center>\n",
    "\n",
    "<center>\n",
    "Patricio Horth M.<br>\n",
    "Víctor Zúñiga M.<br>\n",
    "\n",
    "2 de Noviembre de 2017\n",
    "</center>\n",
    "\n"
   ]
  },
  {
   "cell_type": "code",
   "execution_count": 7,
   "metadata": {},
   "outputs": [],
   "source": [
    "train_data_url = \"https://statweb.stanford.edu/~hastie/ElemStatLearn/datasets/vowel.train\"\n",
    "test_data_url = \"https://statweb.stanford.edu/~hastie/ElemStatLearn/datasets/vowel.test\"\n",
    "train_data_f = urllib.request.urlretrieve(train_data_url, \"train_data.csv\")\n",
    "test_data_f = urllib.request.urlretrieve(test_data_url, \"test_data.csv\")\n",
    "train_df = pd.DataFrame.from_csv('train_data.csv',header=0,index_col=0)\n",
    "test_df = pd.DataFrame.from_csv('test_data.csv',header=0,index_col=0)"
   ]
  },
  {
   "cell_type": "code",
   "execution_count": 23,
   "metadata": {},
   "outputs": [
    {
     "data": {
      "text/html": [
       "<div>\n",
       "<style>\n",
       "    .dataframe thead tr:only-child th {\n",
       "        text-align: right;\n",
       "    }\n",
       "\n",
       "    .dataframe thead th {\n",
       "        text-align: left;\n",
       "    }\n",
       "\n",
       "    .dataframe tbody tr th {\n",
       "        vertical-align: top;\n",
       "    }\n",
       "</style>\n",
       "<table border=\"1\" class=\"dataframe\">\n",
       "  <thead>\n",
       "    <tr style=\"text-align: right;\">\n",
       "      <th></th>\n",
       "      <th>y</th>\n",
       "      <th>x.1</th>\n",
       "      <th>x.2</th>\n",
       "      <th>x.3</th>\n",
       "      <th>x.4</th>\n",
       "      <th>x.5</th>\n",
       "      <th>x.6</th>\n",
       "      <th>x.7</th>\n",
       "      <th>x.8</th>\n",
       "      <th>x.9</th>\n",
       "      <th>x.10</th>\n",
       "    </tr>\n",
       "    <tr>\n",
       "      <th>row.names</th>\n",
       "      <th></th>\n",
       "      <th></th>\n",
       "      <th></th>\n",
       "      <th></th>\n",
       "      <th></th>\n",
       "      <th></th>\n",
       "      <th></th>\n",
       "      <th></th>\n",
       "      <th></th>\n",
       "      <th></th>\n",
       "      <th></th>\n",
       "    </tr>\n",
       "  </thead>\n",
       "  <tbody>\n",
       "    <tr>\n",
       "      <th>1</th>\n",
       "      <td>1</td>\n",
       "      <td>-3.639</td>\n",
       "      <td>0.418</td>\n",
       "      <td>-0.670</td>\n",
       "      <td>1.779</td>\n",
       "      <td>-0.168</td>\n",
       "      <td>1.627</td>\n",
       "      <td>-0.388</td>\n",
       "      <td>0.529</td>\n",
       "      <td>-0.874</td>\n",
       "      <td>-0.814</td>\n",
       "    </tr>\n",
       "    <tr>\n",
       "      <th>2</th>\n",
       "      <td>2</td>\n",
       "      <td>-3.327</td>\n",
       "      <td>0.496</td>\n",
       "      <td>-0.694</td>\n",
       "      <td>1.365</td>\n",
       "      <td>-0.265</td>\n",
       "      <td>1.933</td>\n",
       "      <td>-0.363</td>\n",
       "      <td>0.510</td>\n",
       "      <td>-0.621</td>\n",
       "      <td>-0.488</td>\n",
       "    </tr>\n",
       "    <tr>\n",
       "      <th>3</th>\n",
       "      <td>3</td>\n",
       "      <td>-2.120</td>\n",
       "      <td>0.894</td>\n",
       "      <td>-1.576</td>\n",
       "      <td>0.147</td>\n",
       "      <td>-0.707</td>\n",
       "      <td>1.559</td>\n",
       "      <td>-0.579</td>\n",
       "      <td>0.676</td>\n",
       "      <td>-0.809</td>\n",
       "      <td>-0.049</td>\n",
       "    </tr>\n",
       "    <tr>\n",
       "      <th>4</th>\n",
       "      <td>4</td>\n",
       "      <td>-2.287</td>\n",
       "      <td>1.809</td>\n",
       "      <td>-1.498</td>\n",
       "      <td>1.012</td>\n",
       "      <td>-1.053</td>\n",
       "      <td>1.060</td>\n",
       "      <td>-0.567</td>\n",
       "      <td>0.235</td>\n",
       "      <td>-0.091</td>\n",
       "      <td>-0.795</td>\n",
       "    </tr>\n",
       "    <tr>\n",
       "      <th>5</th>\n",
       "      <td>5</td>\n",
       "      <td>-2.598</td>\n",
       "      <td>1.938</td>\n",
       "      <td>-0.846</td>\n",
       "      <td>1.062</td>\n",
       "      <td>-1.633</td>\n",
       "      <td>0.764</td>\n",
       "      <td>0.394</td>\n",
       "      <td>-0.150</td>\n",
       "      <td>0.277</td>\n",
       "      <td>-0.396</td>\n",
       "    </tr>\n",
       "  </tbody>\n",
       "</table>\n",
       "</div>"
      ],
      "text/plain": [
       "           y    x.1    x.2    x.3    x.4    x.5    x.6    x.7    x.8    x.9  \\\n",
       "row.names                                                                     \n",
       "1          1 -3.639  0.418 -0.670  1.779 -0.168  1.627 -0.388  0.529 -0.874   \n",
       "2          2 -3.327  0.496 -0.694  1.365 -0.265  1.933 -0.363  0.510 -0.621   \n",
       "3          3 -2.120  0.894 -1.576  0.147 -0.707  1.559 -0.579  0.676 -0.809   \n",
       "4          4 -2.287  1.809 -1.498  1.012 -1.053  1.060 -0.567  0.235 -0.091   \n",
       "5          5 -2.598  1.938 -0.846  1.062 -1.633  0.764  0.394 -0.150  0.277   \n",
       "\n",
       "            x.10  \n",
       "row.names         \n",
       "1         -0.814  \n",
       "2         -0.488  \n",
       "3         -0.049  \n",
       "4         -0.795  \n",
       "5         -0.396  "
      ]
     },
     "execution_count": 23,
     "metadata": {},
     "output_type": "execute_result"
    }
   ],
   "source": [
    "train_df.head()"
   ]
  },
  {
   "cell_type": "code",
   "execution_count": 24,
   "metadata": {},
   "outputs": [
    {
     "data": {
      "text/html": [
       "<div>\n",
       "<style>\n",
       "    .dataframe thead tr:only-child th {\n",
       "        text-align: right;\n",
       "    }\n",
       "\n",
       "    .dataframe thead th {\n",
       "        text-align: left;\n",
       "    }\n",
       "\n",
       "    .dataframe tbody tr th {\n",
       "        vertical-align: top;\n",
       "    }\n",
       "</style>\n",
       "<table border=\"1\" class=\"dataframe\">\n",
       "  <thead>\n",
       "    <tr style=\"text-align: right;\">\n",
       "      <th></th>\n",
       "      <th>y</th>\n",
       "      <th>x.1</th>\n",
       "      <th>x.2</th>\n",
       "      <th>x.3</th>\n",
       "      <th>x.4</th>\n",
       "      <th>x.5</th>\n",
       "      <th>x.6</th>\n",
       "      <th>x.7</th>\n",
       "      <th>x.8</th>\n",
       "      <th>x.9</th>\n",
       "      <th>x.10</th>\n",
       "    </tr>\n",
       "    <tr>\n",
       "      <th>row.names</th>\n",
       "      <th></th>\n",
       "      <th></th>\n",
       "      <th></th>\n",
       "      <th></th>\n",
       "      <th></th>\n",
       "      <th></th>\n",
       "      <th></th>\n",
       "      <th></th>\n",
       "      <th></th>\n",
       "      <th></th>\n",
       "      <th></th>\n",
       "    </tr>\n",
       "  </thead>\n",
       "  <tbody>\n",
       "    <tr>\n",
       "      <th>458</th>\n",
       "      <td>7</td>\n",
       "      <td>-3.239</td>\n",
       "      <td>3.083</td>\n",
       "      <td>-1.427</td>\n",
       "      <td>-0.202</td>\n",
       "      <td>-0.282</td>\n",
       "      <td>1.421</td>\n",
       "      <td>0.576</td>\n",
       "      <td>0.068</td>\n",
       "      <td>-0.914</td>\n",
       "      <td>0.147</td>\n",
       "    </tr>\n",
       "    <tr>\n",
       "      <th>459</th>\n",
       "      <td>8</td>\n",
       "      <td>-3.753</td>\n",
       "      <td>3.605</td>\n",
       "      <td>-0.899</td>\n",
       "      <td>-0.747</td>\n",
       "      <td>-0.401</td>\n",
       "      <td>1.765</td>\n",
       "      <td>0.620</td>\n",
       "      <td>0.754</td>\n",
       "      <td>-0.835</td>\n",
       "      <td>-0.301</td>\n",
       "    </tr>\n",
       "    <tr>\n",
       "      <th>460</th>\n",
       "      <td>9</td>\n",
       "      <td>-3.980</td>\n",
       "      <td>2.459</td>\n",
       "      <td>0.068</td>\n",
       "      <td>0.023</td>\n",
       "      <td>0.237</td>\n",
       "      <td>1.029</td>\n",
       "      <td>-0.189</td>\n",
       "      <td>0.521</td>\n",
       "      <td>-0.773</td>\n",
       "      <td>-0.500</td>\n",
       "    </tr>\n",
       "    <tr>\n",
       "      <th>461</th>\n",
       "      <td>10</td>\n",
       "      <td>-4.264</td>\n",
       "      <td>2.925</td>\n",
       "      <td>0.065</td>\n",
       "      <td>0.794</td>\n",
       "      <td>0.323</td>\n",
       "      <td>0.515</td>\n",
       "      <td>-1.282</td>\n",
       "      <td>-0.140</td>\n",
       "      <td>-0.863</td>\n",
       "      <td>-0.390</td>\n",
       "    </tr>\n",
       "    <tr>\n",
       "      <th>462</th>\n",
       "      <td>11</td>\n",
       "      <td>-3.291</td>\n",
       "      <td>2.324</td>\n",
       "      <td>-0.679</td>\n",
       "      <td>0.285</td>\n",
       "      <td>0.441</td>\n",
       "      <td>0.557</td>\n",
       "      <td>-0.227</td>\n",
       "      <td>0.115</td>\n",
       "      <td>-1.046</td>\n",
       "      <td>0.697</td>\n",
       "    </tr>\n",
       "  </tbody>\n",
       "</table>\n",
       "</div>"
      ],
      "text/plain": [
       "            y    x.1    x.2    x.3    x.4    x.5    x.6    x.7    x.8    x.9  \\\n",
       "row.names                                                                      \n",
       "458         7 -3.239  3.083 -1.427 -0.202 -0.282  1.421  0.576  0.068 -0.914   \n",
       "459         8 -3.753  3.605 -0.899 -0.747 -0.401  1.765  0.620  0.754 -0.835   \n",
       "460         9 -3.980  2.459  0.068  0.023  0.237  1.029 -0.189  0.521 -0.773   \n",
       "461        10 -4.264  2.925  0.065  0.794  0.323  0.515 -1.282 -0.140 -0.863   \n",
       "462        11 -3.291  2.324 -0.679  0.285  0.441  0.557 -0.227  0.115 -1.046   \n",
       "\n",
       "            x.10  \n",
       "row.names         \n",
       "458        0.147  \n",
       "459       -0.301  \n",
       "460       -0.500  \n",
       "461       -0.390  \n",
       "462        0.697  "
      ]
     },
     "execution_count": 24,
     "metadata": {},
     "output_type": "execute_result"
    }
   ],
   "source": [
    "test_df.tail()"
   ]
  },
  {
   "cell_type": "code",
   "execution_count": 21,
   "metadata": {},
   "outputs": [
    {
     "name": "stdout",
     "output_type": "stream",
     "text": [
      "El conjunto de entrenamiento tiene 528 registros\n"
     ]
    }
   ],
   "source": [
    "print(\"El conjunto de entrenamiento tiene\", train_df.shape[0], \"registros\")"
   ]
  },
  {
   "cell_type": "code",
   "execution_count": 22,
   "metadata": {},
   "outputs": [
    {
     "name": "stdout",
     "output_type": "stream",
     "text": [
      "El conjunto de entrenamiento tiene 462 registros\n"
     ]
    }
   ],
   "source": [
    "print(\"El conjunto de entrenamiento tiene\", test_df.shape[0], \"registros\")"
   ]
  },
  {
   "cell_type": "code",
   "execution_count": 38,
   "metadata": {},
   "outputs": [
    {
     "data": {
      "text/plain": [
       "Counter({1: 48,\n",
       "         2: 48,\n",
       "         3: 48,\n",
       "         4: 48,\n",
       "         5: 48,\n",
       "         6: 48,\n",
       "         7: 48,\n",
       "         8: 48,\n",
       "         9: 48,\n",
       "         10: 48,\n",
       "         11: 48})"
      ]
     },
     "execution_count": 38,
     "metadata": {},
     "output_type": "execute_result"
    }
   ],
   "source": [
    "from collections import Counter\n",
    "Counter(train_df.y)"
   ]
  },
  {
   "cell_type": "code",
   "execution_count": 26,
   "metadata": {},
   "outputs": [
    {
     "data": {
      "image/png": "[encoded data removed]",
      "text/plain": [
       "<matplotlib.figure.Figure at 0x7f739eef1128>"
      ]
     },
     "metadata": {},
     "output_type": "display_data"
    }
   ],
   "source": [
    "from matplotlib.pylab import hist, show\n",
    "from pylab import rcParams\n",
    "\n",
    "plt.title(\"Histograma de valores de y\")\n",
    "plt.hist(train_df.y,bins=100)\n",
    "plt.show()"
   ]
  },
  {
   "cell_type": "code",
   "execution_count": 39,
   "metadata": {},
   "outputs": [
    {
     "data": {
      "text/plain": [
       "Counter({1: 48,\n",
       "         2: 48,\n",
       "         3: 48,\n",
       "         4: 48,\n",
       "         5: 48,\n",
       "         6: 48,\n",
       "         7: 48,\n",
       "         8: 48,\n",
       "         9: 48,\n",
       "         10: 48,\n",
       "         11: 48})"
      ]
     },
     "execution_count": 39,
     "metadata": {},
     "output_type": "execute_result"
    }
   ],
   "source": [
    "from collections import Counter\n",
    "Counter(train_df.y)"
   ]
  },
  {
   "cell_type": "code",
   "execution_count": 37,
   "metadata": {},
   "outputs": [
    {
     "data": {
      "image/png": "[encoded data removed]",
      "text/plain": [
       "<matplotlib.figure.Figure at 0x7f7395240240>"
      ]
     },
     "metadata": {},
     "output_type": "display_data"
    }
   ],
   "source": [
    "from matplotlib.pylab import hist, show\n",
    "from pylab import rcParams\n",
    "\n",
    "plt.title(\"Histograma de valores de y\")\n",
    "plt.hist(test_df.y,bins=100)\n",
    "plt.show()"
   ]
  },
  {
   "cell_type": "code",
   "execution_count": 27,
   "metadata": {
    "collapsed": true
   },
   "outputs": [],
   "source": [
    "from sklearn.preprocessing import StandardScaler\n",
    "X = train_df.loc[:,'x.1':'x.10'].values\n",
    "y = train_df.loc[:,'y'].values\n",
    "Scaler = StandardScaler().fit(X)\n",
    "X_std = Scaler.transform(X)"
   ]
  },
  {
   "cell_type": "code",
   "execution_count": 46,
   "metadata": {},
   "outputs": [
    {
     "data": {
      "image/png": "[encoded data removed]",
      "text/plain": [
       "<matplotlib.figure.Figure at 0x7f739e560828>"
      ]
     },
     "metadata": {},
     "output_type": "display_data"
    }
   ],
   "source": [
    "from sklearn.decomposition import PCA\n",
    "from matplotlib import pyplot as plt\n",
    "import seaborn as sns\n",
    "import numpy as np\n",
    "sklearn_pca = PCA(n_components=2)\n",
    "Xred_pca = sklearn_pca.fit_transform(X_std)\n",
    "cmap = plt.cm.get_cmap(\"rainbow\")\n",
    "mclasses=(1,2,3,4,5,6,7,8,9,10,11)\n",
    "mcolors = [cmap(i) for i in np.linspace(0,1,11)]\n",
    "plt.figure(figsize=(12, 8))\n",
    "for lab, col in zip(mclasses,mcolors):\n",
    "    plt.scatter(Xred_pca[y==lab, 0],Xred_pca[y==lab, 1],label=lab,c=col)\n",
    "plt.xlabel('Principal Component 1')\n",
    "plt.ylabel('Principal Component 2')\n",
    "leg = plt.legend(loc='upper right', fancybox=True)\n",
    "plt.show()"
   ]
  },
  {
   "cell_type": "code",
   "execution_count": 45,
   "metadata": {},
   "outputs": [
    {
     "data": {
      "image/png": "[encoded data removed]",
      "text/plain": [
       "<matplotlib.figure.Figure at 0x7f7396f19048>"
      ]
     },
     "metadata": {},
     "output_type": "display_data"
    }
   ],
   "source": [
    "from sklearn.discriminant_analysis import LinearDiscriminantAnalysis as LDA\n",
    "sklearn_lda = LDA(n_components=2)\n",
    "Xred_lda = sklearn_lda.fit_transform(X_std,y)\n",
    "cmap = plt.cm.get_cmap(\"rainbow\")\n",
    "mclasses=(1,2,3,4,5,6,7,8,9,10,11)\n",
    "mcolors = [cmap(i) for i in np.linspace(0,1,11)]\n",
    "plt.figure(figsize=(12, 8))\n",
    "for lab, col in zip(mclasses,mcolors):\n",
    "    plt.scatter(Xred_lda[y==lab, 0],Xred_lda[y==lab, 1],label=lab,c=col)\n",
    "plt.xlabel('LDA/Fisher Direction 1')\n",
    "plt.ylabel('LDA/Fisher Direction 2')\n",
    "leg = plt.legend(loc='upper right', fancybox=True)\n",
    "plt.show()"
   ]
  },
  {
   "cell_type": "code",
   "execution_count": 53,
   "metadata": {},
   "outputs": [
    {
     "data": {
      "text/plain": [
       "[1, 2, 3, 4, 5, 6, 7, 8, 9, 10, 11]"
      ]
     },
     "execution_count": 53,
     "metadata": {},
     "output_type": "execute_result"
    }
   ],
   "source": [
    "from collections import Counter\n",
    "Counter(y)\n",
    "y.shape[0]\n",
    "\n",
    "list(set(y))"
   ]
  },
  {
   "cell_type": "code",
   "execution_count": 62,
   "metadata": {},
   "outputs": [
    {
     "name": "stdout",
     "output_type": "stream",
     "text": [
      "[0.09090909090909091, 0.09090909090909091, 0.09090909090909091, 0.09090909090909091, 0.09090909090909091, 0.09090909090909091, 0.09090909090909091, 0.09090909090909091, 0.09090909090909091, 0.09090909090909091, 0.09090909090909091]\n",
      "[9, 1, 6, 6, 9, 11, 5, 5, 10, 5, 7, 2, 10, 7, 4, 11, 8, 2, 5, 4, 4, 4, 3, 8, 4, 10, 4, 8, 1, 6, 2, 2, 6, 1, 5, 3, 1, 11, 1, 8, 11, 10, 1, 6, 11, 7, 11, 1, 1, 10, 7, 4, 1, 10, 8, 2, 11, 6, 11, 5, 7, 8, 9, 7, 11, 9, 2, 3, 7, 5, 4, 11, 5, 8, 3, 1, 10, 7, 7, 10, 10, 11, 3, 4, 5, 10, 5, 3, 11, 4, 7, 4, 9, 5, 4, 7, 8, 3, 10, 9, 7, 4, 9, 8, 8, 3, 8, 8, 6, 5, 10, 9, 1, 9, 11, 4, 1, 5, 7, 7, 10, 8, 11, 9, 7, 5, 3, 11, 4, 5, 1, 7, 3, 3, 8, 6, 5, 2, 5, 2, 8, 1, 2, 9, 11, 1, 10, 5, 10, 11, 8, 3, 4, 10, 3, 2, 9, 8, 7, 3, 10, 8, 7, 9, 6, 3, 5, 10, 2, 10, 10, 2, 8, 11, 9, 5, 9, 5, 7, 8, 10, 9, 1, 5, 3, 4, 8, 2, 2, 3, 2, 3, 8, 10, 11, 9, 1, 4, 10, 7, 7, 6, 7, 1, 9, 10, 9, 10, 8, 6, 6, 9, 9, 8, 6, 4, 8, 5, 2, 6, 7, 10, 10, 1, 7, 4, 5, 7, 5, 1, 8, 3, 2, 8, 8, 8, 9, 8, 11, 2, 7, 5, 6, 4, 10, 2, 5, 11, 5, 10, 10, 8, 11, 11, 5, 6, 3, 2, 2, 10, 5, 1, 4, 2, 11, 7, 9, 11, 6, 7, 1, 9, 1, 8, 5, 11, 2, 11, 9, 7, 7, 11, 5, 11, 2, 2, 4, 10, 3, 4, 4, 7, 3, 5, 8, 1, 6, 2, 9, 4, 2, 6, 11, 4, 3, 5, 6, 5, 2, 2, 1, 1, 8, 1, 11, 8, 1, 8, 4, 7, 1, 10, 1, 5, 10, 7, 11, 11, 9, 4, 10, 9, 2, 6, 9, 8, 6, 4, 2, 9, 6, 3, 2, 7, 8, 2, 9, 7, 6, 2, 1, 2, 2, 1, 1, 6, 4, 5, 1, 1, 8, 7, 11, 4, 2, 10, 11, 1, 4, 2, 7, 3, 9, 5, 11, 1, 8, 3, 2, 4, 8, 5, 10, 3, 7, 1, 4, 5, 6, 2, 11, 9, 11, 7, 1, 8, 2, 2, 8, 2, 9, 5, 7, 1, 7, 10, 8, 6, 3, 7, 9, 5, 6, 2, 9, 10, 5, 2, 7, 5, 1, 1, 3, 1, 8, 5, 5, 6, 6, 10, 7, 1, 3, 7, 8, 4, 3, 1, 2, 9, 9, 1, 2, 2, 9, 8, 1, 8, 11, 4, 2, 3, 8, 8, 5, 2, 10, 4, 11, 3, 7, 1, 8, 11, 3, 11, 4, 6, 3, 6, 10, 1, 10, 4, 2, 1, 5, 6, 5, 2, 10, 3, 6, 6, 7, 10, 6, 4, 3, 8, 4, 5, 4, 6, 1, 8, 8, 10, 8, 6, 7, 9, 4, 4, 1, 6, 10, 3, 10, 10, 3, 11, 11, 7, 7, 2, 9, 2, 2, 8, 2, 8, 9, 9, 6, 1, 5, 3]\n"
     ]
    }
   ],
   "source": [
    "import random\n",
    "\n",
    "def get_probabilities(y):\n",
    "    sum = y.shape[0]\n",
    "    y_set = list(set(y))\n",
    "    y_probabilities = []\n",
    "    for i in y_set:\n",
    "        y_probabilities.append( (list(y).count(i))/sum )\n",
    "    return y_probabilities\n",
    "\n",
    "print(get_probabilities(y))\n",
    "\n",
    "def random_classifier(X,y):\n",
    "    y_probabilities = get_probabilities(y)\n",
    "    y_pred = []\n",
    "    #for i in X:\n",
    "    #    y_pred.append(X[]\n",
    "    y_pred = random.choices(list(set(y)), weights=y_probabilities, k=y.shape[0])\n",
    "    return y_pred\n",
    "\n",
    "print(random_classifier(X_std,y))\n",
    "\n",
    "#import random\n",
    "#population = [['a','b'], ['b','a'], ['c','b']]\n",
    "#list_of_prob = [0.2, 0.2, 0.6]\n",
    "#population = random.choices(population, weights=list_of_prob, k=10)\n",
    "#population"
   ]
  },
  {
   "cell_type": "code",
   "execution_count": null,
   "metadata": {
    "collapsed": true
   },
   "outputs": [],
   "source": []
  },
  {
   "cell_type": "code",
   "execution_count": null,
   "metadata": {
    "collapsed": true
   },
   "outputs": [],
   "source": []
  }
 ],
 "metadata": {
  "kernelspec": {
   "display_name": "Python 3",
   "language": "python",
   "name": "python3"
  },
  "language_info": {
   "codemirror_mode": {
    "name": "ipython",
    "version": 3
   },
   "file_extension": ".py",
   "mimetype": "text/x-python",
   "name": "python",
   "nbconvert_exporter": "python",
   "pygments_lexer": "ipython3",
   "version": "3.6.2"
  }
 },
 "nbformat": 4,
 "nbformat_minor": 2
}
