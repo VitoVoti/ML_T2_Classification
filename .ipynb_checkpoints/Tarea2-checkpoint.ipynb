{
 "cells": [
  {
   "cell_type": "code",
   "execution_count": 1,
   "metadata": {},
   "outputs": [],
   "source": [
    "import pandas as pd\n",
    "import urllib\n",
    "import numpy as np\n",
    "import sklearn.linear_model as lm\n",
    "import matplotlib.pyplot as plt\n",
    "\n",
    "from pylab import rcParams\n",
    "rcParams['figure.figsize'] = 14, 4"
   ]
  },
  {
   "cell_type": "markdown",
   "metadata": {},
   "source": [
    "# <center>Tarea 2 Máquinas de Aprendizaje</center>\n",
    "\n",
    "<center>\n",
    "Patricio Horth M.<br>\n",
    "Víctor Zúñiga M.<br>\n",
    "\n",
    "2 de Noviembre de 2017\n",
    "</center>\n",
    "\n"
   ]
  },
  {
   "cell_type": "markdown",
   "metadata": {},
   "source": [
    "# Introducción\n",
    "\n",
    "Este trabajo tratará sobre la generación de modelos de clasificación para tres problemas distintos, utilizando los siguientes métodos lineales: PCA (Principal Component Analysis), LDA (Linear Discriminant Analysis), QDA (Quadratic Discriminant Analysis), k-NN (k Nearest Neighbours), Naive Bayes, SVMs (Support Vector Machines) y Logistic Regression."
   ]
  },
  {
   "cell_type": "markdown",
   "metadata": {},
   "source": [
    "# 1. Identificación de sonidos fonéticos\n",
    "\n",
    "Se comenzará con la carga de los conjuntos de entrenamiento y de prueba de sonidos fonéticos del inglés británico."
   ]
  },
  {
   "cell_type": "code",
   "execution_count": 2,
   "metadata": {},
   "outputs": [
    {
     "name": "stderr",
     "output_type": "stream",
     "text": [
      "C:\\Users\\Boti\\Anaconda3\\lib\\site-packages\\ipykernel\\__main__.py:5: FutureWarning: from_csv is deprecated. Please use read_csv(...) instead. Note that some of the default arguments are different, so please refer to the documentation for from_csv when changing your function calls\n",
      "C:\\Users\\Boti\\Anaconda3\\lib\\site-packages\\ipykernel\\__main__.py:6: FutureWarning: from_csv is deprecated. Please use read_csv(...) instead. Note that some of the default arguments are different, so please refer to the documentation for from_csv when changing your function calls\n"
     ]
    }
   ],
   "source": [
    "train_data_url = \"https://statweb.stanford.edu/~hastie/ElemStatLearn/datasets/vowel.train\"\n",
    "test_data_url = \"https://statweb.stanford.edu/~hastie/ElemStatLearn/datasets/vowel.test\"\n",
    "train_data_f = urllib.request.urlretrieve(train_data_url, \"train_data.csv\")\n",
    "test_data_f = urllib.request.urlretrieve(test_data_url, \"test_data.csv\")\n",
    "train_df = pd.DataFrame.from_csv('train_data.csv',header=0,index_col=0)\n",
    "test_df = pd.DataFrame.from_csv('test_data.csv',header=0,index_col=0)"
   ]
  },
  {
   "cell_type": "code",
   "execution_count": 3,
   "metadata": {},
   "outputs": [
    {
     "data": {
      "text/html": [
       "<div>\n",
       "<style scoped>\n",
       "    .dataframe tbody tr th:only-of-type {\n",
       "        vertical-align: middle;\n",
       "    }\n",
       "\n",
       "    .dataframe tbody tr th {\n",
       "        vertical-align: top;\n",
       "    }\n",
       "\n",
       "    .dataframe thead th {\n",
       "        text-align: right;\n",
       "    }\n",
       "</style>\n",
       "<table border=\"1\" class=\"dataframe\">\n",
       "  <thead>\n",
       "    <tr style=\"text-align: right;\">\n",
       "      <th></th>\n",
       "      <th>y</th>\n",
       "      <th>x.1</th>\n",
       "      <th>x.2</th>\n",
       "      <th>x.3</th>\n",
       "      <th>x.4</th>\n",
       "      <th>x.5</th>\n",
       "      <th>x.6</th>\n",
       "      <th>x.7</th>\n",
       "      <th>x.8</th>\n",
       "      <th>x.9</th>\n",
       "      <th>x.10</th>\n",
       "    </tr>\n",
       "    <tr>\n",
       "      <th>row.names</th>\n",
       "      <th></th>\n",
       "      <th></th>\n",
       "      <th></th>\n",
       "      <th></th>\n",
       "      <th></th>\n",
       "      <th></th>\n",
       "      <th></th>\n",
       "      <th></th>\n",
       "      <th></th>\n",
       "      <th></th>\n",
       "      <th></th>\n",
       "    </tr>\n",
       "  </thead>\n",
       "  <tbody>\n",
       "    <tr>\n",
       "      <th>1</th>\n",
       "      <td>1</td>\n",
       "      <td>-3.639</td>\n",
       "      <td>0.418</td>\n",
       "      <td>-0.670</td>\n",
       "      <td>1.779</td>\n",
       "      <td>-0.168</td>\n",
       "      <td>1.627</td>\n",
       "      <td>-0.388</td>\n",
       "      <td>0.529</td>\n",
       "      <td>-0.874</td>\n",
       "      <td>-0.814</td>\n",
       "    </tr>\n",
       "    <tr>\n",
       "      <th>2</th>\n",
       "      <td>2</td>\n",
       "      <td>-3.327</td>\n",
       "      <td>0.496</td>\n",
       "      <td>-0.694</td>\n",
       "      <td>1.365</td>\n",
       "      <td>-0.265</td>\n",
       "      <td>1.933</td>\n",
       "      <td>-0.363</td>\n",
       "      <td>0.510</td>\n",
       "      <td>-0.621</td>\n",
       "      <td>-0.488</td>\n",
       "    </tr>\n",
       "    <tr>\n",
       "      <th>3</th>\n",
       "      <td>3</td>\n",
       "      <td>-2.120</td>\n",
       "      <td>0.894</td>\n",
       "      <td>-1.576</td>\n",
       "      <td>0.147</td>\n",
       "      <td>-0.707</td>\n",
       "      <td>1.559</td>\n",
       "      <td>-0.579</td>\n",
       "      <td>0.676</td>\n",
       "      <td>-0.809</td>\n",
       "      <td>-0.049</td>\n",
       "    </tr>\n",
       "    <tr>\n",
       "      <th>4</th>\n",
       "      <td>4</td>\n",
       "      <td>-2.287</td>\n",
       "      <td>1.809</td>\n",
       "      <td>-1.498</td>\n",
       "      <td>1.012</td>\n",
       "      <td>-1.053</td>\n",
       "      <td>1.060</td>\n",
       "      <td>-0.567</td>\n",
       "      <td>0.235</td>\n",
       "      <td>-0.091</td>\n",
       "      <td>-0.795</td>\n",
       "    </tr>\n",
       "    <tr>\n",
       "      <th>5</th>\n",
       "      <td>5</td>\n",
       "      <td>-2.598</td>\n",
       "      <td>1.938</td>\n",
       "      <td>-0.846</td>\n",
       "      <td>1.062</td>\n",
       "      <td>-1.633</td>\n",
       "      <td>0.764</td>\n",
       "      <td>0.394</td>\n",
       "      <td>-0.150</td>\n",
       "      <td>0.277</td>\n",
       "      <td>-0.396</td>\n",
       "    </tr>\n",
       "  </tbody>\n",
       "</table>\n",
       "</div>"
      ],
      "text/plain": [
       "           y    x.1    x.2    x.3    x.4    x.5    x.6    x.7    x.8    x.9  \\\n",
       "row.names                                                                     \n",
       "1          1 -3.639  0.418 -0.670  1.779 -0.168  1.627 -0.388  0.529 -0.874   \n",
       "2          2 -3.327  0.496 -0.694  1.365 -0.265  1.933 -0.363  0.510 -0.621   \n",
       "3          3 -2.120  0.894 -1.576  0.147 -0.707  1.559 -0.579  0.676 -0.809   \n",
       "4          4 -2.287  1.809 -1.498  1.012 -1.053  1.060 -0.567  0.235 -0.091   \n",
       "5          5 -2.598  1.938 -0.846  1.062 -1.633  0.764  0.394 -0.150  0.277   \n",
       "\n",
       "            x.10  \n",
       "row.names         \n",
       "1         -0.814  \n",
       "2         -0.488  \n",
       "3         -0.049  \n",
       "4         -0.795  \n",
       "5         -0.396  "
      ]
     },
     "execution_count": 3,
     "metadata": {},
     "output_type": "execute_result"
    }
   ],
   "source": [
    "train_df.head()"
   ]
  },
  {
   "cell_type": "code",
   "execution_count": 4,
   "metadata": {},
   "outputs": [
    {
     "data": {
      "text/html": [
       "<div>\n",
       "<style scoped>\n",
       "    .dataframe tbody tr th:only-of-type {\n",
       "        vertical-align: middle;\n",
       "    }\n",
       "\n",
       "    .dataframe tbody tr th {\n",
       "        vertical-align: top;\n",
       "    }\n",
       "\n",
       "    .dataframe thead th {\n",
       "        text-align: right;\n",
       "    }\n",
       "</style>\n",
       "<table border=\"1\" class=\"dataframe\">\n",
       "  <thead>\n",
       "    <tr style=\"text-align: right;\">\n",
       "      <th></th>\n",
       "      <th>y</th>\n",
       "      <th>x.1</th>\n",
       "      <th>x.2</th>\n",
       "      <th>x.3</th>\n",
       "      <th>x.4</th>\n",
       "      <th>x.5</th>\n",
       "      <th>x.6</th>\n",
       "      <th>x.7</th>\n",
       "      <th>x.8</th>\n",
       "      <th>x.9</th>\n",
       "      <th>x.10</th>\n",
       "    </tr>\n",
       "    <tr>\n",
       "      <th>row.names</th>\n",
       "      <th></th>\n",
       "      <th></th>\n",
       "      <th></th>\n",
       "      <th></th>\n",
       "      <th></th>\n",
       "      <th></th>\n",
       "      <th></th>\n",
       "      <th></th>\n",
       "      <th></th>\n",
       "      <th></th>\n",
       "      <th></th>\n",
       "    </tr>\n",
       "  </thead>\n",
       "  <tbody>\n",
       "    <tr>\n",
       "      <th>458</th>\n",
       "      <td>7</td>\n",
       "      <td>-3.239</td>\n",
       "      <td>3.083</td>\n",
       "      <td>-1.427</td>\n",
       "      <td>-0.202</td>\n",
       "      <td>-0.282</td>\n",
       "      <td>1.421</td>\n",
       "      <td>0.576</td>\n",
       "      <td>0.068</td>\n",
       "      <td>-0.914</td>\n",
       "      <td>0.147</td>\n",
       "    </tr>\n",
       "    <tr>\n",
       "      <th>459</th>\n",
       "      <td>8</td>\n",
       "      <td>-3.753</td>\n",
       "      <td>3.605</td>\n",
       "      <td>-0.899</td>\n",
       "      <td>-0.747</td>\n",
       "      <td>-0.401</td>\n",
       "      <td>1.765</td>\n",
       "      <td>0.620</td>\n",
       "      <td>0.754</td>\n",
       "      <td>-0.835</td>\n",
       "      <td>-0.301</td>\n",
       "    </tr>\n",
       "    <tr>\n",
       "      <th>460</th>\n",
       "      <td>9</td>\n",
       "      <td>-3.980</td>\n",
       "      <td>2.459</td>\n",
       "      <td>0.068</td>\n",
       "      <td>0.023</td>\n",
       "      <td>0.237</td>\n",
       "      <td>1.029</td>\n",
       "      <td>-0.189</td>\n",
       "      <td>0.521</td>\n",
       "      <td>-0.773</td>\n",
       "      <td>-0.500</td>\n",
       "    </tr>\n",
       "    <tr>\n",
       "      <th>461</th>\n",
       "      <td>10</td>\n",
       "      <td>-4.264</td>\n",
       "      <td>2.925</td>\n",
       "      <td>0.065</td>\n",
       "      <td>0.794</td>\n",
       "      <td>0.323</td>\n",
       "      <td>0.515</td>\n",
       "      <td>-1.282</td>\n",
       "      <td>-0.140</td>\n",
       "      <td>-0.863</td>\n",
       "      <td>-0.390</td>\n",
       "    </tr>\n",
       "    <tr>\n",
       "      <th>462</th>\n",
       "      <td>11</td>\n",
       "      <td>-3.291</td>\n",
       "      <td>2.324</td>\n",
       "      <td>-0.679</td>\n",
       "      <td>0.285</td>\n",
       "      <td>0.441</td>\n",
       "      <td>0.557</td>\n",
       "      <td>-0.227</td>\n",
       "      <td>0.115</td>\n",
       "      <td>-1.046</td>\n",
       "      <td>0.697</td>\n",
       "    </tr>\n",
       "  </tbody>\n",
       "</table>\n",
       "</div>"
      ],
      "text/plain": [
       "            y    x.1    x.2    x.3    x.4    x.5    x.6    x.7    x.8    x.9  \\\n",
       "row.names                                                                      \n",
       "458         7 -3.239  3.083 -1.427 -0.202 -0.282  1.421  0.576  0.068 -0.914   \n",
       "459         8 -3.753  3.605 -0.899 -0.747 -0.401  1.765  0.620  0.754 -0.835   \n",
       "460         9 -3.980  2.459  0.068  0.023  0.237  1.029 -0.189  0.521 -0.773   \n",
       "461        10 -4.264  2.925  0.065  0.794  0.323  0.515 -1.282 -0.140 -0.863   \n",
       "462        11 -3.291  2.324 -0.679  0.285  0.441  0.557 -0.227  0.115 -1.046   \n",
       "\n",
       "            x.10  \n",
       "row.names         \n",
       "458        0.147  \n",
       "459       -0.301  \n",
       "460       -0.500  \n",
       "461       -0.390  \n",
       "462        0.697  "
      ]
     },
     "execution_count": 4,
     "metadata": {},
     "output_type": "execute_result"
    }
   ],
   "source": [
    "test_df.tail()"
   ]
  },
  {
   "cell_type": "code",
   "execution_count": 5,
   "metadata": {},
   "outputs": [
    {
     "name": "stdout",
     "output_type": "stream",
     "text": [
      "El conjunto de entrenamiento tiene 528 registros\n"
     ]
    }
   ],
   "source": [
    "print(\"El conjunto de entrenamiento tiene\", train_df.shape[0], \"registros\")"
   ]
  },
  {
   "cell_type": "code",
   "execution_count": 6,
   "metadata": {},
   "outputs": [
    {
     "name": "stdout",
     "output_type": "stream",
     "text": [
      "El conjunto de entrenamiento tiene 462 registros\n"
     ]
    }
   ],
   "source": [
    "print(\"El conjunto de entrenamiento tiene\", test_df.shape[0], \"registros\")"
   ]
  },
  {
   "cell_type": "markdown",
   "metadata": {},
   "source": [
    "Podemos ver que este *dataset* sólo indica 10 características para cada dato. Cada valor en las características es un número real, y las salidas son números enteros. Es necesario revisar cómo se distribuyen estas salidas."
   ]
  },
  {
   "cell_type": "code",
   "execution_count": 7,
   "metadata": {},
   "outputs": [
    {
     "data": {
      "text/plain": [
       "Counter({1: 48,\n",
       "         2: 48,\n",
       "         3: 48,\n",
       "         4: 48,\n",
       "         5: 48,\n",
       "         6: 48,\n",
       "         7: 48,\n",
       "         8: 48,\n",
       "         9: 48,\n",
       "         10: 48,\n",
       "         11: 48})"
      ]
     },
     "execution_count": 7,
     "metadata": {},
     "output_type": "execute_result"
    }
   ],
   "source": [
    "from collections import Counter\n",
    "Counter(train_df.y)"
   ]
  },
  {
   "cell_type": "code",
   "execution_count": 8,
   "metadata": {},
   "outputs": [
    {
     "data": {
      "image/png": "[encoded data removed]",
      "text/plain": [
       "<matplotlib.figure.Figure at 0xa964ef0>"
      ]
     },
     "metadata": {},
     "output_type": "display_data"
    }
   ],
   "source": [
    "from matplotlib.pylab import hist, show\n",
    "from pylab import rcParams\n",
    "\n",
    "plt.title(\"Histograma de valores de y\")\n",
    "plt.hist(train_df.y,bins=100)\n",
    "plt.show()"
   ]
  },
  {
   "cell_type": "code",
   "execution_count": 9,
   "metadata": {},
   "outputs": [
    {
     "data": {
      "text/plain": [
       "Counter({1: 48,\n",
       "         2: 48,\n",
       "         3: 48,\n",
       "         4: 48,\n",
       "         5: 48,\n",
       "         6: 48,\n",
       "         7: 48,\n",
       "         8: 48,\n",
       "         9: 48,\n",
       "         10: 48,\n",
       "         11: 48})"
      ]
     },
     "execution_count": 9,
     "metadata": {},
     "output_type": "execute_result"
    }
   ],
   "source": [
    "from collections import Counter\n",
    "Counter(train_df.y)"
   ]
  },
  {
   "cell_type": "code",
   "execution_count": 10,
   "metadata": {},
   "outputs": [
    {
     "data": {
      "image/png": "[encoded data removed]",
      "text/plain": [
       "<matplotlib.figure.Figure at 0xb371a58>"
      ]
     },
     "metadata": {},
     "output_type": "display_data"
    }
   ],
   "source": [
    "from matplotlib.pylab import hist, show\n",
    "from pylab import rcParams\n",
    "\n",
    "plt.title(\"Histograma de valores de y\")\n",
    "plt.hist(test_df.y,bins=100)\n",
    "plt.show()"
   ]
  },
  {
   "cell_type": "markdown",
   "metadata": {},
   "source": [
    "En ambos datasets (entrenamiento y prueba) las salidas son parte del conjunto de números enteros $[1,11]$, y se tiene un número igual de casos para cada posible salida, por lo tanto, podemos decir que las clases de los datasets están bien balanceados.\n",
    "\n",
    "A continuación, se utilizará PCA (*Principal Component Analysis*) para proyectar cada uno de los datos de entrenamiento en tan sólo dos dimensiones, y luego se hará un coloreo de cada uno en esta proyección según la clase *target* a la que pertenecen (o sea, entre 1 y 11). Antes de la transformación, los datos de cada característica se estandarizarán utilizando **StandardScaler**, la cual transforma los valores restándole el promedio y dividiendo por la desviación estándar (de cada variable o característica). Esto hace que los datos de cada variable tengan una media o esperanza centrada en 0, y varianzas bajo el mismo orden de magnitud."
   ]
  },
  {
   "cell_type": "code",
   "execution_count": 11,
   "metadata": {},
   "outputs": [],
   "source": [
    "from sklearn.preprocessing import StandardScaler\n",
    "X = train_df.loc[:,'x.1':'x.10'].values\n",
    "y = train_df.loc[:,'y'].values\n",
    "Scaler = StandardScaler().fit(X)\n",
    "X_std = Scaler.transform(X)"
   ]
  },
  {
   "cell_type": "code",
   "execution_count": 30,
   "metadata": {},
   "outputs": [
    {
     "data": {
      "text/plain": [
       "array([ 0.        ,  0.11111111,  0.22222222,  0.33333333,  0.44444444,\n",
       "        0.55555556,  0.66666667,  0.77777778,  0.88888889,  1.        ])"
      ]
     },
     "execution_count": 30,
     "metadata": {},
     "output_type": "execute_result"
    }
   ],
   "source": [
    "#np.linspace(0,1,10)\n",
    "np.linspace(0,1,10)"
   ]
  },
  {
   "cell_type": "code",
   "execution_count": 37,
   "metadata": {},
   "outputs": [
    {
     "data": {
      "image/png": "[encoded data removed]",
      "text/plain": [
       "<matplotlib.figure.Figure at 0xb79fac8>"
      ]
     },
     "metadata": {},
     "output_type": "display_data"
    }
   ],
   "source": [
    "from sklearn.decomposition import PCA\n",
    "from matplotlib import pyplot as plt\n",
    "import seaborn as sns\n",
    "import numpy as np\n",
    "sklearn_pca = PCA(n_components=2)\n",
    "Xred_pca = sklearn_pca.fit_transform(X_std)\n",
    "cmap = plt.cm.get_cmap(\"rainbow\")\n",
    "mclasses=(1,2,3,4,5,6,7,8,9,10)\n",
    "mcolors = [cmap(i) for i in np.linspace(0,1,10)]\n",
    "plt.figure(figsize=(12, 8))\n",
    "for lab, col in zip(mclasses,mcolors):\n",
    "    plt.scatter(Xred_pca[y==lab, 0],Xred_pca[y==lab, 1],label=lab,c=col, marker='o')\n",
    "plt.xlabel('Principal Component 1')\n",
    "plt.ylabel('Principal Component 2')\n",
    "leg = plt.legend(loc='upper right', fancybox=True)\n",
    "plt.show()"
   ]
  },
  {
   "cell_type": "markdown",
   "metadata": {},
   "source": [
    "Ahora se realizará el mismo ejercicio, pero utilizando LDA (*Linear Discriminant Analysis*)."
   ]
  },
  {
   "cell_type": "code",
   "execution_count": 38,
   "metadata": {},
   "outputs": [
    {
     "data": {
      "image/png": "[encoded data removed]",
      "text/plain": [
       "<matplotlib.figure.Figure at 0xa9f3588>"
      ]
     },
     "metadata": {},
     "output_type": "display_data"
    }
   ],
   "source": [
    "from sklearn.discriminant_analysis import LinearDiscriminantAnalysis as LDA\n",
    "sklearn_lda = LDA(n_components=2)\n",
    "Xred_lda = sklearn_lda.fit_transform(X_std,y)\n",
    "cmap = plt.cm.get_cmap(\"rainbow\")\n",
    "mclasses=(1,2,3,4,5,6,7,8,9,10)\n",
    "mcolors = [cmap(i) for i in np.linspace(0,1,10)]\n",
    "plt.figure(figsize=(12, 8))\n",
    "for lab, col in zip(mclasses,mcolors):\n",
    "    plt.scatter(Xred_lda[y==lab, 0],Xred_lda[y==lab, 1],label=lab,c=col)\n",
    "plt.xlabel('LDA/Fisher Direction 1')\n",
    "plt.ylabel('LDA/Fisher Direction 2')\n",
    "leg = plt.legend(loc='upper right', fancybox=True)\n",
    "plt.show()"
   ]
  },
  {
   "cell_type": "markdown",
   "metadata": {},
   "source": [
    "Podemos ver que LDA logra separar las clases de mejor manera utilizando sólo 2 dimensiones."
   ]
  },
  {
   "cell_type": "code",
   "execution_count": 14,
   "metadata": {},
   "outputs": [
    {
     "data": {
      "text/plain": [
       "[1, 2, 3, 4, 5, 6, 7, 8, 9, 10, 11]"
      ]
     },
     "execution_count": 14,
     "metadata": {},
     "output_type": "execute_result"
    }
   ],
   "source": [
    "from collections import Counter\n",
    "Counter(y)\n",
    "y.shape[0]\n",
    "\n",
    "list(set(y))"
   ]
  },
  {
   "cell_type": "code",
   "execution_count": 41,
   "metadata": {},
   "outputs": [
    {
     "name": "stdout",
     "output_type": "stream",
     "text": [
      "C:\\Users\\Boti\\Anaconda3\\lib\\random.py\n",
      "[0.09090909090909091, 0.09090909090909091, 0.09090909090909091, 0.09090909090909091, 0.09090909090909091, 0.09090909090909091, 0.09090909090909091, 0.09090909090909091, 0.09090909090909091, 0.09090909090909091, 0.09090909090909091]\n"
     ]
    },
    {
     "ename": "AttributeError",
     "evalue": "module 'random' has no attribute 'choices'",
     "output_type": "error",
     "traceback": [
      "\u001b[1;31m---------------------------------------------------------------------------\u001b[0m",
      "\u001b[1;31mAttributeError\u001b[0m                            Traceback (most recent call last)",
      "\u001b[1;32m<ipython-input-41-436363d89e4c>\u001b[0m in \u001b[0;36m<module>\u001b[1;34m()\u001b[0m\n\u001b[0;32m     21\u001b[0m     \u001b[1;32mreturn\u001b[0m \u001b[0my_pred\u001b[0m\u001b[1;33m\u001b[0m\u001b[0m\n\u001b[0;32m     22\u001b[0m \u001b[1;33m\u001b[0m\u001b[0m\n\u001b[1;32m---> 23\u001b[1;33m \u001b[0my_random\u001b[0m \u001b[1;33m=\u001b[0m \u001b[0mrandom_classifier\u001b[0m\u001b[1;33m(\u001b[0m\u001b[0mX_std\u001b[0m\u001b[1;33m,\u001b[0m\u001b[0my\u001b[0m\u001b[1;33m)\u001b[0m\u001b[1;33m\u001b[0m\u001b[0m\n\u001b[0m\u001b[0;32m     24\u001b[0m \u001b[0mprint\u001b[0m\u001b[1;33m(\u001b[0m\u001b[0my_random\u001b[0m\u001b[1;33m)\u001b[0m\u001b[1;33m\u001b[0m\u001b[0m\n",
      "\u001b[1;32m<ipython-input-41-436363d89e4c>\u001b[0m in \u001b[0;36mrandom_classifier\u001b[1;34m(X, y)\u001b[0m\n\u001b[0;32m     18\u001b[0m     \u001b[1;31m#for i in X:\u001b[0m\u001b[1;33m\u001b[0m\u001b[1;33m\u001b[0m\u001b[0m\n\u001b[0;32m     19\u001b[0m     \u001b[1;31m#    y_pred.append(X[]\u001b[0m\u001b[1;33m\u001b[0m\u001b[1;33m\u001b[0m\u001b[0m\n\u001b[1;32m---> 20\u001b[1;33m     \u001b[0my_pred\u001b[0m \u001b[1;33m=\u001b[0m \u001b[0mrandom\u001b[0m\u001b[1;33m.\u001b[0m\u001b[0mchoices\u001b[0m\u001b[1;33m(\u001b[0m\u001b[0mlist\u001b[0m\u001b[1;33m(\u001b[0m\u001b[0mset\u001b[0m\u001b[1;33m(\u001b[0m\u001b[0my\u001b[0m\u001b[1;33m)\u001b[0m\u001b[1;33m)\u001b[0m\u001b[1;33m,\u001b[0m \u001b[0mweights\u001b[0m\u001b[1;33m=\u001b[0m\u001b[0my_probabilities\u001b[0m\u001b[1;33m,\u001b[0m \u001b[0mk\u001b[0m\u001b[1;33m=\u001b[0m\u001b[0my\u001b[0m\u001b[1;33m.\u001b[0m\u001b[0mshape\u001b[0m\u001b[1;33m[\u001b[0m\u001b[1;36m0\u001b[0m\u001b[1;33m]\u001b[0m\u001b[1;33m)\u001b[0m\u001b[1;33m\u001b[0m\u001b[0m\n\u001b[0m\u001b[0;32m     21\u001b[0m     \u001b[1;32mreturn\u001b[0m \u001b[0my_pred\u001b[0m\u001b[1;33m\u001b[0m\u001b[0m\n\u001b[0;32m     22\u001b[0m \u001b[1;33m\u001b[0m\u001b[0m\n",
      "\u001b[1;31mAttributeError\u001b[0m: module 'random' has no attribute 'choices'"
     ]
    }
   ],
   "source": [
    "import random\n",
    "\n",
    "print(random.__file__)\n",
    "\n",
    "def get_probabilities(y):\n",
    "    sum = y.shape[0]\n",
    "    y_set = list(set(y))\n",
    "    y_probabilities = []\n",
    "    for i in y_set:\n",
    "        y_probabilities.append( (list(y).count(i))/sum )\n",
    "    return y_probabilities\n",
    "\n",
    "print(get_probabilities(y))\n",
    "\n",
    "def random_classifier(X,y):\n",
    "    y_probabilities = get_probabilities(y)\n",
    "    y_pred = []\n",
    "    #for i in X:\n",
    "    #    y_pred.append(X[]\n",
    "    y_pred = random.choices(list(set(y)), weights=y_probabilities, k=y.shape[0])\n",
    "    return y_pred\n",
    "\n",
    "y_random = random_classifier(X_std,y)\n",
    "print(y_random)"
   ]
  },
  {
   "cell_type": "code",
   "execution_count": 32,
   "metadata": {},
   "outputs": [
    {
     "name": "stdout",
     "output_type": "stream",
     "text": [
      "-----LDA-----\n",
      "Score with training set: 0.683712121212\n",
      "Score with testing set: 0.443722943723\n",
      "-----QDA-----\n",
      "Score with training set: 0.988636363636\n",
      "Score with testing set: 0.471861471861\n",
      "-----KNN-----\n",
      "Best score with training set: 1.0 , using k = 1\n",
      "Best score with testing set: 0.519480519481 , using k = 7\n"
     ]
    },
    {
     "data": {
      "image/png": "[encoded data removed]",
      "text/plain": [
       "<matplotlib.figure.Figure at 0x7f840b94bd30>"
      ]
     },
     "metadata": {},
     "output_type": "display_data"
    }
   ],
   "source": [
    "from sklearn.discriminant_analysis import LinearDiscriminantAnalysis as LDA\n",
    "from sklearn.discriminant_analysis import QuadraticDiscriminantAnalysis as QDA\n",
    "from sklearn.neighbors import KNeighborsClassifier\n",
    "import matplotlib.pyplot as plt\n",
    "Xtest = test_df.loc[:,'x.1':'x.10'].values\n",
    "ytest = test_df.loc[:,'y'].values\n",
    "X_std_test = Scaler.transform(Xtest)\n",
    "\n",
    "\n",
    "lda_model = LDA()\n",
    "lda_model.fit(X_std,y)\n",
    "print(\"-----LDA-----\")\n",
    "print(\"Score with training set:\", lda_model.score(X_std,y))\n",
    "print(\"Score with testing set:\", lda_model.score(X_std_test,ytest))\n",
    "\n",
    "\n",
    "qda_model = QDA()\n",
    "qda_model.fit(X_std,y)\n",
    "print(\"-----QDA-----\")\n",
    "print(\"Score with training set:\", qda_model.score(X_std,y))\n",
    "print(\"Score with testing set:\", qda_model.score(X_std_test,ytest))\n",
    "\n",
    "\n",
    "print(\"-----KNN-----\")\n",
    "knn_scores_training = []\n",
    "knn_scores_testing = []\n",
    "k = range(1,51)\n",
    "for c in k:\n",
    "    knn_model = KNeighborsClassifier(n_neighbors=c)\n",
    "    knn_model.fit(X_std,y)\n",
    "    knn_scores_training.append(knn_model.score(X_std,y))\n",
    "    knn_scores_testing.append(knn_model.score(X_std_test,ytest))\n",
    "plt.figure(figsize=(10,10))\n",
    "plt.subplot(211)\n",
    "plt.xlabel(\"k\")\n",
    "plt.ylabel(\"Score\")\n",
    "plt.title(\"Training/Testing\")\n",
    "plt.plot(k,knn_scores_training, '-o',k,knn_scores_testing, '-o')\n",
    "plt.legend((\"Training\", \"Testing\"), loc = \"upper right\")\n",
    "\n",
    "knn_max_training = max(knn_scores_training)\n",
    "knn_max_training_index = knn_scores_training.index(knn_max_training)\n",
    "knn_max_testing = max(knn_scores_testing)\n",
    "knn_max_testing_index = knn_scores_testing.index(knn_max_testing)\n",
    "print(\"Best score with training set:\", knn_max_training, \", using k =\",knn_max_training_index+1)\n",
    "print(\"Best score with testing set:\", knn_max_testing, \", using k =\",knn_max_testing_index+1)\n",
    "\n",
    "plt.show()"
   ]
  },
  {
   "cell_type": "code",
   "execution_count": 31,
   "metadata": {},
   "outputs": [
    {
     "name": "stdout",
     "output_type": "stream",
     "text": [
      "Mejor score en conjunto de testing es 0.519480519481 , con k = 7\n"
     ]
    }
   ],
   "source": [
    "knn_max = max(knn_scores_testing)\n",
    "knn_max_index = knn_scores_testing.index(knn_max)\n",
    "print(\"Mejor score en conjunto de testing es\", knn_max, \", con k =\",knn_max_index+1)"
   ]
  },
  {
   "cell_type": "code",
   "execution_count": null,
   "metadata": {
    "collapsed": true
   },
   "outputs": [],
   "source": [
    "def get_error(yhat):\n",
    "    return np.mean(np.power(yhat - ytest, 2))\n",
    "\n",
    "X_pca_array = []\n",
    "lda_scores_training = []\n",
    "lda_scores_testing = []\n",
    "qda_scores_training = []\n",
    "qda_scores_testing = []\n",
    "knn_best_scores_training = []\n",
    "knn_best_scores_testing = []\n",
    "\n",
    "lda_err_training = []\n",
    "lda_err_testing = []\n",
    "qda_err_training = []\n",
    "qda_err_testing = []\n",
    "knn_best_err_training = []\n",
    "knn_best_err_testing = []\n",
    "\n",
    "\n",
    "for i in range(1,11):\n",
    "    print(\"d' =\", i,\"\\n\")\n",
    "    \n",
    "    #Se reduce la dimensionalidad con PCA\n",
    "    sklearn_pca_temp = PCA(n_components=i)\n",
    "    pca_model_temp = sklearn_pca_temp.fit(X_std)\n",
    "    X_pca_train_temp = pca_model_temp.transform(X_std)\n",
    "    X_pca_test_temp = pca_model_temp.transform(X_std_test)\n",
    "    \n",
    "    \n",
    "    print(\"-----LDA-----\")\n",
    "    lda_model = LDA()\n",
    "    lda_model.fit(X_pca_train_temp,y)\n",
    "    \n",
    "    lda_scores_training.append(lda_model.score(X_pca_train_temp,y))\n",
    "    lda_scores_testing.append(lda_model.score(X_pca_test_temp,ytest))\n",
    "    print(\"Score with training set:\", lda_scores_training[-1])\n",
    "    print(\"Score with testing set:\", lda_scores_testing[-1])\n",
    "    #Error estandar promedio cuadrado\n",
    "    yhat_training = lda_model.predict(X_pca_train_temp)\n",
    "    yhat_testing = lda_model.predict(X_pca_test_temp)\n",
    "    #lda_err_training.append(np.mean(np.power(yhat_training - ytest, 2)))\n",
    "    #lda_err_training.append(np.mean(np.power(yhat_testing - ytest, 2)))\n",
    "    lda_err_training.append(get_error(yhat_training))\n",
    "    lda_err_training.append(get_error(yhat_testing))\n",
    "    \n",
    "    \n",
    "    print(\"-----QDA-----\")\n",
    "    qda_model = QDA()\n",
    "    qda_model.fit(X_pca_train_temp,y)\n",
    "    \n",
    "    qda_scores_training.append(qda_model.score(X_pca_train_temp,y))\n",
    "    qda_scores_testing.append(qda_model.score(X_pca_test_temp,ytest))\n",
    "    print(\"Score with training set:\", qda_scores_training[-1])\n",
    "    print(\"Score with testing set:\", qda_scores_testing[-1])\n",
    "    yhat_training = lda_model.predict(X_pca_train_temp)\n",
    "    yhat_testing = lda_model.predict(X_pca_test_temp)\n",
    "    qda_err_training.append(get_error(yhat_training))\n",
    "    qda_err_training.append(get_error(yhat_testing))\n",
    "    \n",
    "    \n",
    "    print(\"-----KNN-----\")\n",
    "    knn_scores_training = []\n",
    "    knn_scores_testing = []\n",
    "    k = range(1,51)\n",
    "    for c in k:\n",
    "        knn_model = KNeighborsClassifier(n_neighbors=c)\n",
    "        knn_model.fit(X_pca_train_temp,y)\n",
    "        knn_scores_training.append(knn_model.score(X_pca_train_temp,y))\n",
    "        knn_scores_testing.append(knn_model.score(X_pca_test_temp,ytest))\n",
    "\n",
    "    knn_max_testing = max(knn_scores_testing)\n",
    "    knn_max_testing_index = knn_scores_testing.index(knn_max_testing)\n",
    "    \n",
    "    knn_best_scores_training.append(knn_scores_training[knn_max_testing_index])\n",
    "    knn_best_scores_testing.append(knn_max_testing)\n",
    "    \n",
    "    print(\"Best k for the testing set is\", knn_max_testing_index+1)\n",
    "    print(\"Score with training set:\", knn_best_scores_training[-1])\n",
    "    print(\"Score with testing set:\", knn_best_scores_testing[-1])\n",
    "    \n",
    "    yhat_training = lda_model.predict(X_pca_train_temp)\n",
    "    yhat_testing = lda_model.predict(X_pca_test_temp)\n",
    "    knn_best_err_training.append(get_error(yhat_training))\n",
    "    knn"
   ]
  },
  {
   "cell_type": "code",
   "execution_count": 120,
   "metadata": {},
   "outputs": [
    {
     "name": "stdout",
     "output_type": "stream",
     "text": [
      "d' = 1 \n",
      "\n",
      "-----LDA-----\n",
      "Score with training set: 0.181818181818\n",
      "Score with testing set: 0.134199134199\n",
      "-----QDA-----\n",
      "Score with training set: 0.238636363636\n",
      "Score with testing set: 0.160173160173\n",
      "-----KNN-----\n",
      "Best k for the testing set is 15\n",
      "Score with training set: 0.363636363636\n",
      "Score with testing set: 0.175324675325\n",
      "\n",
      "\n",
      "d' = 2 \n",
      "\n",
      "-----LDA-----\n",
      "Score with training set: 0.287878787879\n",
      "Score with testing set: 0.253246753247\n",
      "-----QDA-----\n",
      "Score with training set: 0.325757575758\n",
      "Score with testing set: 0.248917748918\n",
      "-----KNN-----\n",
      "Best k for the testing set is 13\n",
      "Score with training set: 0.585227272727\n",
      "Score with testing set: 0.257575757576\n",
      "\n",
      "\n",
      "d' = 3 \n",
      "\n",
      "-----LDA-----\n",
      "Score with training set: 0.371212121212\n",
      "Score with testing set: 0.290043290043\n",
      "-----QDA-----\n",
      "Score with training set: 0.566287878788\n",
      "Score with testing set: 0.285714285714\n",
      "-----KNN-----\n",
      "Best k for the testing set is 1\n",
      "Score with training set: 1.0\n",
      "Score with testing set: 0.387445887446\n",
      "\n",
      "\n",
      "d' = 4 \n",
      "\n",
      "-----LDA-----\n",
      "Score with training set: 0.477272727273\n",
      "Score with testing set: 0.367965367965\n",
      "-----QDA-----\n",
      "Score with training set: 0.755681818182\n",
      "Score with testing set: 0.391774891775\n",
      "-----KNN-----\n",
      "Best k for the testing set is 1\n",
      "Score with training set: 1.0\n",
      "Score with testing set: 0.52380952381\n",
      "\n",
      "\n",
      "d' = 5 \n",
      "\n",
      "-----LDA-----\n",
      "Score with training set: 0.501893939394\n",
      "Score with testing set: 0.361471861472\n",
      "-----QDA-----\n",
      "Score with training set: 0.814393939394\n",
      "Score with testing set: 0.411255411255\n",
      "-----KNN-----\n",
      "Best k for the testing set is 12\n",
      "Score with training set: 0.82196969697\n",
      "Score with testing set: 0.517316017316\n",
      "\n",
      "\n",
      "d' = 6 \n",
      "\n",
      "-----LDA-----\n",
      "Score with training set: 0.526515151515\n",
      "Score with testing set: 0.396103896104\n",
      "-----QDA-----\n",
      "Score with training set: 0.86553030303\n",
      "Score with testing set: 0.437229437229\n",
      "-----KNN-----\n",
      "Best k for the testing set is 6\n",
      "Score with training set: 0.965909090909\n",
      "Score with testing set: 0.558441558442\n",
      "\n",
      "\n",
      "d' = 7 \n",
      "\n",
      "-----LDA-----\n",
      "Score with training set: 0.609848484848\n",
      "Score with testing set: 0.445887445887\n",
      "-----QDA-----\n",
      "Score with training set: 0.920454545455\n",
      "Score with testing set: 0.47619047619\n",
      "-----KNN-----\n",
      "Best k for the testing set is 2\n",
      "Score with training set: 0.99053030303\n",
      "Score with testing set: 0.573593073593\n",
      "\n",
      "\n",
      "d' = 8 \n",
      "\n",
      "-----LDA-----\n",
      "Score with training set: 0.657196969697\n",
      "Score with testing set: 0.428571428571\n",
      "-----QDA-----\n",
      "Score with training set: 0.939393939394\n",
      "Score with testing set: 0.426406926407\n",
      "-----KNN-----\n",
      "Best k for the testing set is 1\n",
      "Score with training set: 1.0\n",
      "Score with testing set: 0.528138528139\n",
      "\n",
      "\n",
      "d' = 9 \n",
      "\n",
      "-----LDA-----\n",
      "Score with training set: 0.6875\n",
      "Score with testing set: 0.437229437229\n",
      "-----QDA-----\n",
      "Score with training set: 0.977272727273\n",
      "Score with testing set: 0.467532467532\n",
      "-----KNN-----\n",
      "Best k for the testing set is 6\n",
      "Score with training set: 0.975378787879\n",
      "Score with testing set: 0.519480519481\n",
      "\n",
      "\n",
      "d' = 10 \n",
      "\n",
      "-----LDA-----\n",
      "Score with training set: 0.683712121212\n",
      "Score with testing set: 0.443722943723\n",
      "-----QDA-----\n",
      "Score with training set: 0.988636363636\n",
      "Score with testing set: 0.471861471861\n",
      "-----KNN-----\n",
      "Best k for the testing set is 7\n",
      "Score with training set: 0.964015151515\n",
      "Score with testing set: 0.519480519481\n",
      "\n",
      "\n"
     ]
    }
   ],
   "source": [
    "def get_error(yhat, ytest):\n",
    "    return np.mean(np.power(yhat - ytest, 2))\n",
    "\n",
    "X_pca_array = []\n",
    "lda_scores_training = []\n",
    "lda_scores_testing = []\n",
    "qda_scores_training = []\n",
    "qda_scores_testing = []\n",
    "knn_best_scores_training = []\n",
    "knn_best_scores_testing = []\n",
    "\n",
    "lda_err_training = []\n",
    "lda_err_testing = []\n",
    "qda_err_training = []\n",
    "qda_err_testing = []\n",
    "knn_best_err_training = []\n",
    "knn_best_err_testing = []\n",
    "\n",
    "\n",
    "for i in range(1,11):\n",
    "    print(\"d' =\", i,\"\\n\")\n",
    "    \n",
    "    #Se reduce la dimensionalidad con PCA\n",
    "    sklearn_pca_temp = PCA(n_components=i)\n",
    "    pca_model_temp = sklearn_pca_temp.fit(X_std)\n",
    "    X_pca_train_temp = pca_model_temp.transform(X_std)\n",
    "    X_pca_test_temp = pca_model_temp.transform(X_std_test)\n",
    "    \n",
    "    \n",
    "    print(\"-----LDA-----\")\n",
    "    lda_model = LDA()\n",
    "    lda_model.fit(X_pca_train_temp,y)\n",
    "    \n",
    "    lda_scores_training.append(lda_model.score(X_pca_train_temp,y))\n",
    "    lda_scores_testing.append(lda_model.score(X_pca_test_temp,ytest))\n",
    "    print(\"Score with training set:\", lda_scores_training[-1])\n",
    "    print(\"Score with testing set:\", lda_scores_testing[-1])\n",
    "    #Error estandar promedio cuadrado\n",
    "    yhat_training = lda_model.predict(X_pca_train_temp)\n",
    "    yhat_testing = lda_model.predict(X_pca_test_temp)\n",
    "    #lda_err_training.append(np.mean(np.power(yhat_training - ytest, 2)))\n",
    "    #lda_err_training.append(np.mean(np.power(yhat_testing - ytest, 2)))\n",
    "    lda_err_training.append(get_error(yhat_training, y))\n",
    "    lda_err_testing.append(get_error(yhat_testing, ytest))\n",
    "    \n",
    "    \n",
    "    print(\"-----QDA-----\")\n",
    "    qda_model = QDA()\n",
    "    qda_model.fit(X_pca_train_temp,y)\n",
    "    \n",
    "    qda_scores_training.append(qda_model.score(X_pca_train_temp,y))\n",
    "    qda_scores_testing.append(qda_model.score(X_pca_test_temp,ytest))\n",
    "    print(\"Score with training set:\", qda_scores_training[-1])\n",
    "    print(\"Score with testing set:\", qda_scores_testing[-1])\n",
    "    yhat_training = qda_model.predict(X_pca_train_temp)\n",
    "    yhat_testing = qda_model.predict(X_pca_test_temp)\n",
    "    qda_err_training.append(get_error(yhat_training, y))\n",
    "    qda_err_testing.append(get_error(yhat_testing, ytest))\n",
    "    \n",
    "    \n",
    "    print(\"-----KNN-----\")\n",
    "    knn_scores_training = []\n",
    "    knn_scores_testing = []\n",
    "    knn_err_training = []\n",
    "    knn_err_testing = []\n",
    "    k = range(1,51)\n",
    "    for c in k:\n",
    "        knn_model = KNeighborsClassifier(n_neighbors=c)\n",
    "        knn_model.fit(X_pca_train_temp,y)\n",
    "        knn_scores_training.append(knn_model.score(X_pca_train_temp,y))\n",
    "        knn_scores_testing.append(knn_model.score(X_pca_test_temp,ytest))\n",
    "        knn_err_training.append(get_error(knn_model.predict(X_pca_train_temp), y))\n",
    "        knn_err_testing.append(get_error(knn_model.predict(X_pca_test_temp), ytest))\n",
    "        \n",
    "\n",
    "    knn_max_testing = max(knn_scores_testing)\n",
    "    knn_max_testing_index = knn_scores_testing.index(knn_max_testing)\n",
    "    \n",
    "    knn_best_scores_training.append(knn_scores_training[knn_max_testing_index])\n",
    "    knn_best_scores_testing.append(knn_max_testing)\n",
    "    \n",
    "    print(\"Best k for the testing set is\", knn_max_testing_index+1)\n",
    "    print(\"Score with training set:\", knn_best_scores_training[-1])\n",
    "    print(\"Score with testing set:\", knn_best_scores_testing[-1])\n",
    "    \n",
    "    knn_best_err_training.append(knn_err_training[knn_max_testing_index+1])\n",
    "    knn_best_err_testing.append(knn_err_testing[knn_max_testing_index+1])\n",
    "    \n",
    "\n",
    "    print(\"\\n\")\n",
    "    "
   ]
  },
  {
   "cell_type": "code",
   "execution_count": 136,
   "metadata": {},
   "outputs": [
    {
     "data": {
      "image/png": "[encoded data removed]",
      "text/plain": [
       "<matplotlib.figure.Figure at 0x7f840bc3ef28>"
      ]
     },
     "metadata": {},
     "output_type": "display_data"
    }
   ],
   "source": [
    "plt.figure(figsize=(10,10))\n",
    "plt.subplot(211)\n",
    "plt.xlabel(\"d\")\n",
    "d = range(1,11)\n",
    "plt.xticks(d)\n",
    "plt.ylabel(\"Score\")\n",
    "plt.title(\"Score de Training/Testing para cada clasificador\")\n",
    "plt.plot(d,lda_scores_training, '-o', label='lda_scores_training', color='tab:cyan')\n",
    "plt.plot(d,lda_scores_testing, '-o', label='lda_scores_testing', color='tab:blue')\n",
    "plt.plot(d,qda_scores_training, '-o', label='qda_scores_training', color='tab:green')\n",
    "plt.plot(d,qda_scores_testing, '-o', label='qda_scores_testing', color='tab:olive')\n",
    "plt.plot(d,knn_best_scores_training, '-o', label='knn_best_scores_training', color='tab:orange')\n",
    "plt.plot(d,knn_best_scores_testing, '-o', label='knn_best_scores_testing', color='tab:red')\n",
    "plt.legend(loc = \"best\")\n",
    "plt.show()"
   ]
  },
  {
   "cell_type": "code",
   "execution_count": 135,
   "metadata": {},
   "outputs": [
    {
     "data": {
      "image/png": "[encoded data removed]",
      "text/plain": [
       "<matplotlib.figure.Figure at 0x7f840da419e8>"
      ]
     },
     "metadata": {},
     "output_type": "display_data"
    }
   ],
   "source": [
    "plt.figure(figsize=(10,10))\n",
    "plt.subplot(211)\n",
    "plt.xlabel(\"d\")\n",
    "d = range(1,11)\n",
    "plt.xticks(d)\n",
    "plt.ylabel(\"Error\")\n",
    "plt.title(\"Error en Training/Testing de cada clasificador\")\n",
    "plt.plot(d,lda_err_training, '-o', label='lda_err_training', color='tab:cyan')\n",
    "plt.plot(d,lda_err_testing, '-o', label='lda_err_testing', color='tab:blue')\n",
    "plt.plot(d,qda_err_training, '-o', label='qda_err_training', color='tab:green')\n",
    "plt.plot(d,qda_err_testing, '-o', label='qda_err_testing', color='tab:olive')\n",
    "plt.plot(d,knn_best_err_training, '-o', label='knn_best_err_training', color='tab:orange')\n",
    "plt.plot(d,knn_best_err_testing, '-o', label='knn_best_err_testing', color='tab:red')\n",
    "plt.legend(loc = \"best\")\n",
    "plt.show()"
   ]
  },
  {
   "cell_type": "markdown",
   "metadata": {
    "collapsed": true
   },
   "source": [
    "# 2. Análisis de Opiniones sobre Películas"
   ]
  },
  {
   "cell_type": "markdown",
   "metadata": {},
   "source": [
    "El análisis de sentimiento (o minerı́a de opiniones) se refiere al proceso de extraer información acerca de\n",
    "la actitud que una persona (o grupo de ellas) manifiesta, en un determinado medio o formato digital, con\n",
    "respecto a un tópico o contexto de comunicación. Uno de los casos más estudiados corresponde a determinar\n",
    "la polaridad de un trozo de texto, es decir, clasificar una determinada evaluación escrita (ó review ), en que\n",
    "una persona manifiesta una opinión, como positiva, negativa o neutral. La dificultad de este problema radica\n",
    "en el carácter altamente ambiguo e informal del lenguaje que utilizan naturalmente las personas ası́ como el\n",
    "manejo de negaciones, sarcasmo y abreviaciones en una frase."
   ]
  },
  {
   "cell_type": "markdown",
   "metadata": {},
   "source": [
    "### a . Construya un dataframe con los datos a analizar descargando los datos desde la URL local. Determine cuántos registros de cada clase contiene el conjunto de entrenamiento y cuántos el conjunto de pruebas"
   ]
  },
  {
   "cell_type": "code",
   "execution_count": 3,
   "metadata": {},
   "outputs": [
    {
     "name": "stdout",
     "output_type": "stream",
     "text": [
      "(3554, 2)\n",
      "(3554, 2)\n"
     ]
    }
   ],
   "source": [
    "#Se contruye el data frame \n",
    "train_data_url = \"http://www.inf.utfsm.cl/~jnancu/stanford-subset/polarity.train\"\n",
    "test_data_url = \"http://www.inf.utfsm.cl/~jnancu/stanford-subset/polarity.dev\"\n",
    "train_data_f = urllib.request.urlretrieve(train_data_url, \"train_data_item2.csv\")\n",
    "test_data_f = urllib.request.urlretrieve(test_data_url, \"test_data_item2.csv\")\n",
    "ftr = open(\"train_data_item2.csv\", \"r\", errors='replace')\n",
    "fts = open(\"test_data_item2.csv\", \"r\")\n",
    "rows = [line.split(\" \",1) for line in ftr.readlines()]\n",
    "train_df = pd.DataFrame(rows, columns=['Sentiment','Text'])\n",
    "train_df['Sentiment'] = pd.to_numeric(train_df['Sentiment'])\n",
    "rows = [line.split(\" \",1) for line in fts.readlines()]\n",
    "test_df = pd.DataFrame(rows, columns=['Sentiment','Text'])\n",
    "test_df['Sentiment'] = pd.to_numeric(test_df['Sentiment'])\n",
    "print(train_df.shape)\n",
    "print(test_df.shape)"
   ]
  },
  {
   "cell_type": "code",
   "execution_count": 4,
   "metadata": {},
   "outputs": [
    {
     "name": "stdout",
     "output_type": "stream",
     "text": [
      "El conjunto de entrenamiento tiene: 3554 registros\n",
      "El conjunto de pruebas tiene: 3554 registros\n"
     ]
    }
   ],
   "source": [
    "print(\"El conjunto de entrenamiento tiene:\",train_df.shape[0], \"registros\")\n",
    "print(\"El conjunto de pruebas tiene:\",test_df.shape[0], \"registros\")"
   ]
  },
  {
   "cell_type": "markdown",
   "metadata": {},
   "source": [
    "Tenemos que la cantidad de clases estará dada por la columna \"Sentiment\" del dataset, donde existen dos valores posibles $+1$ para comentarios positivos y $-1$ para comentarios negativos."
   ]
  },
  {
   "cell_type": "code",
   "execution_count": 5,
   "metadata": {},
   "outputs": [
    {
     "name": "stdout",
     "output_type": "stream",
     "text": [
      "---Conjunto de entrenamiento---\n",
      "La cantidad de elementos que tienen la clase +1 es:  1770\n",
      "La cantidad de elementos que tienen la clase -1 es:  1784\n",
      "\n",
      "\n",
      "---Conjunto de prueba---\n",
      "La cantidad de elementos que tienen la clase +1 es:  1751\n",
      "La cantidad de elementos que tienen la clase -1 es:  1803\n"
     ]
    }
   ],
   "source": [
    "count_train_df = pd.value_counts(train_df['Sentiment'].values, sort=False)\n",
    "count_test_df = pd.value_counts(test_df['Sentiment'].values, sort=False)\n",
    "print(\"---Conjunto de entrenamiento---\")\n",
    "print(\"La cantidad de elementos que tienen la clase +1 es: \",count_train_df[1])\n",
    "print(\"La cantidad de elementos que tienen la clase -1 es: \",count_train_df[-1])\n",
    "print(\"\\n\")\n",
    "print(\"---Conjunto de prueba---\")\n",
    "print(\"La cantidad de elementos que tienen la clase +1 es: \",count_test_df[1])\n",
    "print(\"La cantidad de elementos que tienen la clase -1 es: \",count_test_df[-1])"
   ]
  },
  {
   "cell_type": "markdown",
   "metadata": {},
   "source": [
    "### (b) Construya una función, denominada word extractor, que devuelva una lista de las palabras contenidas en un determinado un trozo de texto. Incorpore en su función las operaciones de lower-casing y stemming. Pruebe la función con las frases sugeridas en el código, invente otras similares y comente. Compare con los resultados obtenidos si no se hace stemming."
   ]
  },
  {
   "cell_type": "markdown",
   "metadata": {},
   "source": [
    "[algoritmo de Porter]\n",
    "\n",
    "Este algoritmo asegura que la forma de las palabras no penalice la frecuencia de éstas. Es decir, una palabra puede estar conjugada en cualquier (género, número, persona, etc.) y solo se considerará (en muchas ocasiones) como un solo término."
   ]
  },
  {
   "cell_type": "markdown",
   "metadata": {},
   "source": [
    "https://stackoverflow.com/questions/28583565/str-object-has-no-attribute-decode-python-3-error"
   ]
  },
  {
   "cell_type": "code",
   "execution_count": 7,
   "metadata": {
    "scrolled": true
   },
   "outputs": [
    {
     "ename": "LookupError",
     "evalue": "\n**********************************************************************\n  Resource 'corpora/stopwords' not found.  Please use the NLTK\n  Downloader to obtain the resource:  >>> nltk.download()\n  Searched in:\n    - '/home/victor/nltk_data'\n    - '/usr/share/nltk_data'\n    - '/usr/local/share/nltk_data'\n    - '/usr/lib/nltk_data'\n    - '/usr/local/lib/nltk_data'\n**********************************************************************",
     "output_type": "error",
     "traceback": [
      "\u001b[0;31m---------------------------------------------------------------------------\u001b[0m",
      "\u001b[0;31mLookupError\u001b[0m                               Traceback (most recent call last)",
      "\u001b[0;32m~/anaconda3/lib/python3.6/site-packages/nltk/corpus/util.py\u001b[0m in \u001b[0;36m__load\u001b[0;34m(self)\u001b[0m\n\u001b[1;32m     79\u001b[0m             \u001b[0;32mexcept\u001b[0m \u001b[0mLookupError\u001b[0m \u001b[0;32mas\u001b[0m \u001b[0me\u001b[0m\u001b[0;34m:\u001b[0m\u001b[0;34m\u001b[0m\u001b[0m\n\u001b[0;32m---> 80\u001b[0;31m                 \u001b[0;32mtry\u001b[0m\u001b[0;34m:\u001b[0m \u001b[0mroot\u001b[0m \u001b[0;34m=\u001b[0m \u001b[0mnltk\u001b[0m\u001b[0;34m.\u001b[0m\u001b[0mdata\u001b[0m\u001b[0;34m.\u001b[0m\u001b[0mfind\u001b[0m\u001b[0;34m(\u001b[0m\u001b[0;34m'{}/{}'\u001b[0m\u001b[0;34m.\u001b[0m\u001b[0mformat\u001b[0m\u001b[0;34m(\u001b[0m\u001b[0mself\u001b[0m\u001b[0;34m.\u001b[0m\u001b[0msubdir\u001b[0m\u001b[0;34m,\u001b[0m \u001b[0mzip_name\u001b[0m\u001b[0;34m)\u001b[0m\u001b[0;34m)\u001b[0m\u001b[0;34m\u001b[0m\u001b[0m\n\u001b[0m\u001b[1;32m     81\u001b[0m                 \u001b[0;32mexcept\u001b[0m \u001b[0mLookupError\u001b[0m\u001b[0;34m:\u001b[0m \u001b[0;32mraise\u001b[0m \u001b[0me\u001b[0m\u001b[0;34m\u001b[0m\u001b[0m\n",
      "\u001b[0;32m~/anaconda3/lib/python3.6/site-packages/nltk/data.py\u001b[0m in \u001b[0;36mfind\u001b[0;34m(resource_name, paths)\u001b[0m\n\u001b[1;32m    652\u001b[0m     \u001b[0mresource_not_found\u001b[0m \u001b[0;34m=\u001b[0m \u001b[0;34m'\\n%s\\n%s\\n%s'\u001b[0m \u001b[0;34m%\u001b[0m \u001b[0;34m(\u001b[0m\u001b[0msep\u001b[0m\u001b[0;34m,\u001b[0m \u001b[0mmsg\u001b[0m\u001b[0;34m,\u001b[0m \u001b[0msep\u001b[0m\u001b[0;34m)\u001b[0m\u001b[0;34m\u001b[0m\u001b[0m\n\u001b[0;32m--> 653\u001b[0;31m     \u001b[0;32mraise\u001b[0m \u001b[0mLookupError\u001b[0m\u001b[0;34m(\u001b[0m\u001b[0mresource_not_found\u001b[0m\u001b[0;34m)\u001b[0m\u001b[0;34m\u001b[0m\u001b[0m\n\u001b[0m\u001b[1;32m    654\u001b[0m \u001b[0;34m\u001b[0m\u001b[0m\n",
      "\u001b[0;31mLookupError\u001b[0m: \n**********************************************************************\n  Resource 'corpora/stopwords.zip/stopwords/' not found.  Please\n  use the NLTK Downloader to obtain the resource:  >>>\n  nltk.download()\n  Searched in:\n    - '/home/victor/nltk_data'\n    - '/usr/share/nltk_data'\n    - '/usr/local/share/nltk_data'\n    - '/usr/lib/nltk_data'\n    - '/usr/local/lib/nltk_data'\n**********************************************************************",
      "\nDuring handling of the above exception, another exception occurred:\n",
      "\u001b[0;31mLookupError\u001b[0m                               Traceback (most recent call last)",
      "\u001b[0;32m<ipython-input-7-7d093f5720f6>\u001b[0m in \u001b[0;36m<module>\u001b[0;34m()\u001b[0m\n\u001b[1;32m     30\u001b[0m     \u001b[0;32mreturn\u001b[0m \u001b[0mwords\u001b[0m\u001b[0;34m\u001b[0m\u001b[0m\n\u001b[1;32m     31\u001b[0m \u001b[0;34m\u001b[0m\u001b[0m\n\u001b[0;32m---> 32\u001b[0;31m \u001b[0mprint\u001b[0m\u001b[0;34m(\u001b[0m\u001b[0mword_extractor\u001b[0m\u001b[0;34m(\u001b[0m\u001b[0;34m\"I love to eat cake\"\u001b[0m\u001b[0;34m)\u001b[0m\u001b[0;34m)\u001b[0m\u001b[0;34m\u001b[0m\u001b[0m\n\u001b[0m\u001b[1;32m     33\u001b[0m \u001b[0mprint\u001b[0m\u001b[0;34m(\u001b[0m\u001b[0mword_extractor\u001b[0m\u001b[0;34m(\u001b[0m\u001b[0;34m\"I love eating cake\"\u001b[0m\u001b[0;34m)\u001b[0m\u001b[0;34m)\u001b[0m\u001b[0;34m\u001b[0m\u001b[0m\n\u001b[1;32m     34\u001b[0m \u001b[0mprint\u001b[0m\u001b[0;34m(\u001b[0m\u001b[0mword_extractor\u001b[0m\u001b[0;34m(\u001b[0m\u001b[0;34m\"I loved eating the cake\"\u001b[0m\u001b[0;34m)\u001b[0m\u001b[0;34m)\u001b[0m\u001b[0;34m\u001b[0m\u001b[0m\n",
      "\u001b[0;32m<ipython-input-7-7d093f5720f6>\u001b[0m in \u001b[0;36mword_extractor\u001b[0;34m(text)\u001b[0m\n\u001b[1;32m      6\u001b[0m \u001b[0;32mdef\u001b[0m \u001b[0mword_extractor\u001b[0m\u001b[0;34m(\u001b[0m\u001b[0mtext\u001b[0m\u001b[0;34m)\u001b[0m\u001b[0;34m:\u001b[0m\u001b[0;34m\u001b[0m\u001b[0m\n\u001b[1;32m      7\u001b[0m     \u001b[0mps\u001b[0m \u001b[0;34m=\u001b[0m \u001b[0mPorterStemmer\u001b[0m\u001b[0;34m(\u001b[0m\u001b[0;34m)\u001b[0m\u001b[0;34m\u001b[0m\u001b[0m\n\u001b[0;32m----> 8\u001b[0;31m     \u001b[0mcommonwords\u001b[0m \u001b[0;34m=\u001b[0m \u001b[0mstopwords\u001b[0m\u001b[0;34m.\u001b[0m\u001b[0mwords\u001b[0m\u001b[0;34m(\u001b[0m\u001b[0;34m'english'\u001b[0m\u001b[0;34m)\u001b[0m\u001b[0;34m\u001b[0m\u001b[0m\n\u001b[0m\u001b[1;32m      9\u001b[0m     \u001b[0mcommonwords\u001b[0m\u001b[0;34m.\u001b[0m\u001b[0mremove\u001b[0m\u001b[0;34m(\u001b[0m\u001b[0;34m\"not\"\u001b[0m\u001b[0;34m)\u001b[0m\u001b[0;34m\u001b[0m\u001b[0m\n\u001b[1;32m     10\u001b[0m     \u001b[0mtext\u001b[0m \u001b[0;34m=\u001b[0m \u001b[0mre\u001b[0m\u001b[0;34m.\u001b[0m\u001b[0msub\u001b[0m\u001b[0;34m(\u001b[0m\u001b[0;34mr'([a-z])\\1+'\u001b[0m\u001b[0;34m,\u001b[0m \u001b[0;34mr'\\1\\1'\u001b[0m\u001b[0;34m,\u001b[0m\u001b[0mtext\u001b[0m\u001b[0;34m)\u001b[0m\u001b[0;34m\u001b[0m\u001b[0m\n",
      "\u001b[0;32m~/anaconda3/lib/python3.6/site-packages/nltk/corpus/util.py\u001b[0m in \u001b[0;36m__getattr__\u001b[0;34m(self, attr)\u001b[0m\n\u001b[1;32m    114\u001b[0m             \u001b[0;32mraise\u001b[0m \u001b[0mAttributeError\u001b[0m\u001b[0;34m(\u001b[0m\u001b[0;34m\"LazyCorpusLoader object has no attribute '__bases__'\"\u001b[0m\u001b[0;34m)\u001b[0m\u001b[0;34m\u001b[0m\u001b[0m\n\u001b[1;32m    115\u001b[0m \u001b[0;34m\u001b[0m\u001b[0m\n\u001b[0;32m--> 116\u001b[0;31m         \u001b[0mself\u001b[0m\u001b[0;34m.\u001b[0m\u001b[0m__load\u001b[0m\u001b[0;34m(\u001b[0m\u001b[0;34m)\u001b[0m\u001b[0;34m\u001b[0m\u001b[0m\n\u001b[0m\u001b[1;32m    117\u001b[0m         \u001b[0;31m# This looks circular, but its not, since __load() changes our\u001b[0m\u001b[0;34m\u001b[0m\u001b[0;34m\u001b[0m\u001b[0m\n\u001b[1;32m    118\u001b[0m         \u001b[0;31m# __class__ to something new:\u001b[0m\u001b[0;34m\u001b[0m\u001b[0;34m\u001b[0m\u001b[0m\n",
      "\u001b[0;32m~/anaconda3/lib/python3.6/site-packages/nltk/corpus/util.py\u001b[0m in \u001b[0;36m__load\u001b[0;34m(self)\u001b[0m\n\u001b[1;32m     79\u001b[0m             \u001b[0;32mexcept\u001b[0m \u001b[0mLookupError\u001b[0m \u001b[0;32mas\u001b[0m \u001b[0me\u001b[0m\u001b[0;34m:\u001b[0m\u001b[0;34m\u001b[0m\u001b[0m\n\u001b[1;32m     80\u001b[0m                 \u001b[0;32mtry\u001b[0m\u001b[0;34m:\u001b[0m \u001b[0mroot\u001b[0m \u001b[0;34m=\u001b[0m \u001b[0mnltk\u001b[0m\u001b[0;34m.\u001b[0m\u001b[0mdata\u001b[0m\u001b[0;34m.\u001b[0m\u001b[0mfind\u001b[0m\u001b[0;34m(\u001b[0m\u001b[0;34m'{}/{}'\u001b[0m\u001b[0;34m.\u001b[0m\u001b[0mformat\u001b[0m\u001b[0;34m(\u001b[0m\u001b[0mself\u001b[0m\u001b[0;34m.\u001b[0m\u001b[0msubdir\u001b[0m\u001b[0;34m,\u001b[0m \u001b[0mzip_name\u001b[0m\u001b[0;34m)\u001b[0m\u001b[0;34m)\u001b[0m\u001b[0;34m\u001b[0m\u001b[0m\n\u001b[0;32m---> 81\u001b[0;31m                 \u001b[0;32mexcept\u001b[0m \u001b[0mLookupError\u001b[0m\u001b[0;34m:\u001b[0m \u001b[0;32mraise\u001b[0m \u001b[0me\u001b[0m\u001b[0;34m\u001b[0m\u001b[0m\n\u001b[0m\u001b[1;32m     82\u001b[0m \u001b[0;34m\u001b[0m\u001b[0m\n\u001b[1;32m     83\u001b[0m         \u001b[0;31m# Load the corpus.\u001b[0m\u001b[0;34m\u001b[0m\u001b[0;34m\u001b[0m\u001b[0m\n",
      "\u001b[0;32m~/anaconda3/lib/python3.6/site-packages/nltk/corpus/util.py\u001b[0m in \u001b[0;36m__load\u001b[0;34m(self)\u001b[0m\n\u001b[1;32m     76\u001b[0m         \u001b[0;32melse\u001b[0m\u001b[0;34m:\u001b[0m\u001b[0;34m\u001b[0m\u001b[0m\n\u001b[1;32m     77\u001b[0m             \u001b[0;32mtry\u001b[0m\u001b[0;34m:\u001b[0m\u001b[0;34m\u001b[0m\u001b[0m\n\u001b[0;32m---> 78\u001b[0;31m                 \u001b[0mroot\u001b[0m \u001b[0;34m=\u001b[0m \u001b[0mnltk\u001b[0m\u001b[0;34m.\u001b[0m\u001b[0mdata\u001b[0m\u001b[0;34m.\u001b[0m\u001b[0mfind\u001b[0m\u001b[0;34m(\u001b[0m\u001b[0;34m'{}/{}'\u001b[0m\u001b[0;34m.\u001b[0m\u001b[0mformat\u001b[0m\u001b[0;34m(\u001b[0m\u001b[0mself\u001b[0m\u001b[0;34m.\u001b[0m\u001b[0msubdir\u001b[0m\u001b[0;34m,\u001b[0m \u001b[0mself\u001b[0m\u001b[0;34m.\u001b[0m\u001b[0m__name\u001b[0m\u001b[0;34m)\u001b[0m\u001b[0;34m)\u001b[0m\u001b[0;34m\u001b[0m\u001b[0m\n\u001b[0m\u001b[1;32m     79\u001b[0m             \u001b[0;32mexcept\u001b[0m \u001b[0mLookupError\u001b[0m \u001b[0;32mas\u001b[0m \u001b[0me\u001b[0m\u001b[0;34m:\u001b[0m\u001b[0;34m\u001b[0m\u001b[0m\n\u001b[1;32m     80\u001b[0m                 \u001b[0;32mtry\u001b[0m\u001b[0;34m:\u001b[0m \u001b[0mroot\u001b[0m \u001b[0;34m=\u001b[0m \u001b[0mnltk\u001b[0m\u001b[0;34m.\u001b[0m\u001b[0mdata\u001b[0m\u001b[0;34m.\u001b[0m\u001b[0mfind\u001b[0m\u001b[0;34m(\u001b[0m\u001b[0;34m'{}/{}'\u001b[0m\u001b[0;34m.\u001b[0m\u001b[0mformat\u001b[0m\u001b[0;34m(\u001b[0m\u001b[0mself\u001b[0m\u001b[0;34m.\u001b[0m\u001b[0msubdir\u001b[0m\u001b[0;34m,\u001b[0m \u001b[0mzip_name\u001b[0m\u001b[0;34m)\u001b[0m\u001b[0;34m)\u001b[0m\u001b[0;34m\u001b[0m\u001b[0m\n",
      "\u001b[0;32m~/anaconda3/lib/python3.6/site-packages/nltk/data.py\u001b[0m in \u001b[0;36mfind\u001b[0;34m(resource_name, paths)\u001b[0m\n\u001b[1;32m    651\u001b[0m     \u001b[0msep\u001b[0m \u001b[0;34m=\u001b[0m \u001b[0;34m'*'\u001b[0m \u001b[0;34m*\u001b[0m \u001b[0;36m70\u001b[0m\u001b[0;34m\u001b[0m\u001b[0m\n\u001b[1;32m    652\u001b[0m     \u001b[0mresource_not_found\u001b[0m \u001b[0;34m=\u001b[0m \u001b[0;34m'\\n%s\\n%s\\n%s'\u001b[0m \u001b[0;34m%\u001b[0m \u001b[0;34m(\u001b[0m\u001b[0msep\u001b[0m\u001b[0;34m,\u001b[0m \u001b[0mmsg\u001b[0m\u001b[0;34m,\u001b[0m \u001b[0msep\u001b[0m\u001b[0;34m)\u001b[0m\u001b[0;34m\u001b[0m\u001b[0m\n\u001b[0;32m--> 653\u001b[0;31m     \u001b[0;32mraise\u001b[0m \u001b[0mLookupError\u001b[0m\u001b[0;34m(\u001b[0m\u001b[0mresource_not_found\u001b[0m\u001b[0;34m)\u001b[0m\u001b[0;34m\u001b[0m\u001b[0m\n\u001b[0m\u001b[1;32m    654\u001b[0m \u001b[0;34m\u001b[0m\u001b[0m\n\u001b[1;32m    655\u001b[0m \u001b[0;34m\u001b[0m\u001b[0m\n",
      "\u001b[0;31mLookupError\u001b[0m: \n**********************************************************************\n  Resource 'corpora/stopwords' not found.  Please use the NLTK\n  Downloader to obtain the resource:  >>> nltk.download()\n  Searched in:\n    - '/home/victor/nltk_data'\n    - '/usr/share/nltk_data'\n    - '/usr/local/share/nltk_data'\n    - '/usr/lib/nltk_data'\n    - '/usr/local/lib/nltk_data'\n**********************************************************************"
     ]
    }
   ],
   "source": [
    "import re, time\n",
    "from nltk.corpus import stopwords\n",
    "from nltk import WordNetLemmatizer, word_tokenize\n",
    "from nltk.stem.porter import PorterStemmer\n",
    "\n",
    "def word_extractor(text):\n",
    "    ps = PorterStemmer()\n",
    "    commonwords = stopwords.words('english')\n",
    "    commonwords.remove(\"not\")\n",
    "    text = re.sub(r'([a-z])\\1+', r'\\1\\1',text)\n",
    "    words = \"\"\n",
    "    wordtokens = [ ps.stem(word.lower()) for word in word_tokenize(text) ]\n",
    "    for word in wordtokens:\n",
    "        if word not in commonwords:\n",
    "            words+=\" \"+word\n",
    "    return words\n",
    "\n",
    "def word_extractor_simple(text):\n",
    "    ps = PorterStemmer()\n",
    "    #Se eliminan las \"palabras vacias\"\n",
    "    commonwords = stopwords.words('english')\n",
    "    commonwords.remove(\"not\")\n",
    "    text = re.sub(r'([a-z])\\1+', r'\\1\\1',text)\n",
    "    words = \"\"\n",
    "    wordtokens = [ word.lower() for word in word_tokenize(text) ]\n",
    "    for word in wordtokens:\n",
    "        #Se dejan solo las palabras relevantes\n",
    "        if word not in commonwords:\n",
    "            words+=\" \"+word\n",
    "    return words\n",
    "\n",
    "print(word_extractor(\"I love to eat cake\"))\n",
    "print(word_extractor(\"I love eating cake\"))\n",
    "print(word_extractor(\"I loved eating the cake\"))\n",
    "print(word_extractor(\"I do not love eating cake\"))\n",
    "print(word_extractor(\"I don't love eating cake\"))\n",
    "\n",
    "print(word_extractor(\"You awake late\"))\n",
    "print(word_extractor(\"You awoke late\"))\n",
    "print(word_extractor(\"You have been awaking late\"))\n",
    "print(word_extractor(\"I would have awaken\"))\n",
    "\n",
    "print(word_extractor(\"ask\"))\n",
    "print(word_extractor(\"asked\"))\n",
    "\n",
    "print(\"\\n\")\n",
    "print(word_extractor_simple(\"I love to eat cake\"))\n",
    "print(word_extractor_simple(\"I love eating cake\"))\n",
    "print(word_extractor_simple(\"I loved eating the cake\"))\n",
    "print(word_extractor_simple(\"I do not love eating cake\"))\n",
    "print(word_extractor_simple(\"I don't love eating cake\"))                     "
   ]
  },
  {
   "cell_type": "code",
   "execution_count": null,
   "metadata": {
    "collapsed": true
   },
   "outputs": [],
   "source": []
  },
  {
   "cell_type": "markdown",
   "metadata": {},
   "source": [
    "### (c) Construya una función, denominada word extractor2, análoga a la función anterior, pero que lematice las palabras en vez de hacer stemming. Pruebe la función con las frases sugeridas en el código anterior y discuta las diferencias que observa.\n"
   ]
  },
  {
   "cell_type": "markdown",
   "metadata": {},
   "source": [
    "La lematización es un proceso lingüístico que consiste en, dada una forma flexionada (es decir, en plural, en femenino, conjugada, etc), hallar el lema correspondiente. El lema es la forma que por convenio se acepta como representante de todas las formas flexionadas de una misma palabra. Es decir, el lema de una palabra es la palabra que nos encontraríamos como entrada en un diccionario tradicional: singular para sustantivos, masculino singular para adjetivos, infinitivo para verbos."
   ]
  },
  {
   "cell_type": "code",
   "execution_count": 83,
   "metadata": {},
   "outputs": [
    {
     "name": "stdout",
     "output_type": "stream",
     "text": [
      " love eat cake\n",
      " love eating cake\n",
      " loved eating cake\n",
      " not love eating cake\n",
      " n't love eating cake\n",
      " awaked late\n",
      " awoke late\n",
      " awaking late\n",
      " would awaken\n",
      " aardwolf\n",
      " abacus\n"
     ]
    }
   ],
   "source": [
    "def word_extractor2(text):\n",
    "    wordlemmatizer = WordNetLemmatizer()\n",
    "    commonwords = stopwords.words('english')\n",
    "    commonwords.remove(\"not\")\n",
    "    text = re.sub(r'([a-z])\\1+', r'\\1\\1',text)\n",
    "    words = \"\"\n",
    "    wordtokens = [ wordlemmatizer.lemmatize(word.lower()) for word in word_tokenize(text) ]\n",
    "    for word in wordtokens:\n",
    "        if word not in commonwords:\n",
    "            words+=\" \"+word\n",
    "    return words\n",
    "\n",
    "print(word_extractor2(\"I love to eat cake\"))\n",
    "print(word_extractor2(\"I love eating cake\"))\n",
    "print(word_extractor2(\"I loved eating the cake\"))\n",
    "print(word_extractor2(\"I do not love eating cake\"))\n",
    "print(word_extractor2(\"I don't love eating cake\"))\n",
    "\n",
    "print(word_extractor2(\"You awaked late\"))\n",
    "print(word_extractor2(\"You awoke late\"))\n",
    "print(word_extractor2(\"You have been awaking late\"))\n",
    "print(word_extractor2(\"I would have awaken\"))\n",
    "\n",
    "print(word_extractor2(\"aardwolves\"))\n",
    "print(word_extractor2(\"abaci\"))\n",
    "                      "
   ]
  },
  {
   "cell_type": "markdown",
   "metadata": {},
   "source": [
    "-Stemming algorithms work by cutting off the end of the word, and in some cases also the beginning while looking for the root. This indiscriminate cutting can be successful in some occasions, but not always, that is why we affirm that this an approach that offers some limitations.\n",
    "\n",
    "-Lemmatization on the other hand takes into consideration the morphological analysis of the words. To do so it is necessary to have detailed dictionaries the algorithm can look back at to link the form back to its lemma. \n",
    "\n",
    "The main difference is that a lemma is the base form of all its inflectional forms. However, the stem can be the same for the inflectional forms of different lemmas, providing then noise to our search results.\n"
   ]
  },
  {
   "cell_type": "markdown",
   "metadata": {},
   "source": [
    "### (d) Utilizando la función CountVectorizer de la librería sklearn y de acuerdo a las directrices mencionadasen la introducción, genere una representación vectorial del texto de entrenamiento y del conjunto que usaremos para realizar pruebas. Explore el vocabulario utilizado y determine cuáles son las palabras más frecuentes en el conjunto de entrenamiento y pruebas."
   ]
  },
  {
   "cell_type": "code",
   "execution_count": 18,
   "metadata": {
    "collapsed": true
   },
   "outputs": [],
   "source": [
    "import numpy as np\n",
    "from sklearn.feature_extraction.text import CountVectorizer\n",
    "from tabulate  import tabulate\n",
    "\n",
    "def vect_rep(train_df, test_df, v = \"porter\", v1 = \"train\"):\n",
    "    if v == \"porter\":\n",
    "        texts_train = [word_extractor(text) for text in train_df.Text]\n",
    "        texts_test = [word_extractor(text) for text in test_df.Text]\n",
    "    if v == \"lem\":\n",
    "        texts_train = [word_extractor2(text) for text in train_df.Text]\n",
    "        texts_test = [word_extractor2(text) for text in test_df.Text]\n",
    "    vectorizer = CountVectorizer(ngram_range=(1, 1), binary='False')\n",
    "    vectorizer.fit(np.asarray(texts_train))\n",
    "    features_train = vectorizer.transform(texts_train)\n",
    "    features_test = vectorizer.transform(texts_test)\n",
    "    labels_train = np.asarray((train_df.Sentiment.astype(float)+1)/2.0)\n",
    "    labels_test = np.asarray((test_df.Sentiment.astype(float)+1)/2.0)\n",
    "    vocab = vectorizer.get_feature_names()\n",
    "    if v1 == \"train\":\n",
    "        dist=list(np.array(features_train.sum(axis=0)).reshape(-1,))\n",
    "        features = features_train\n",
    "        labels = labels_train\n",
    "    if v1 == \"test\":\n",
    "        dist=list(np.array(features_test.sum(axis=0)).reshape(-1,))\n",
    "        features = features_test\n",
    "        labels = labels_test\n",
    "    #Se modifica el codigo original para guardar cada tag y su frecuencia \n",
    "    frec_tag = []\n",
    "    for tag, count in zip(vocab, dist):\n",
    "        frec_tag.append([count, tag])\n",
    "    return frec_tag,features,labels "
   ]
  },
  {
   "cell_type": "code",
   "execution_count": 9,
   "metadata": {
    "collapsed": true
   },
   "outputs": [],
   "source": [
    "def n_more_frequent(l,n):\n",
    "    # Se ordenan de manera descendente\n",
    "    sorted_tags = sorted(l, reverse=True)\n",
    "    # Se guardan las n palabras mas frecuentes\n",
    "    elements = []\n",
    "    for i in range(n):\n",
    "        elements.append(sorted_tags[i])\n",
    "    return elements\n",
    "\n",
    "def tab(a,b,n):\n",
    "    aa = n_more_frequent(a,n)\n",
    "    bb = n_more_frequent(b,n)\n",
    "    from tabulate import tabulate\n",
    "    tab = []\n",
    "    for i  in range(len(aa)):\n",
    "        tab.append([aa[i],bb[i]])\n",
    "    return tab   "
   ]
  },
  {
   "cell_type": "code",
   "execution_count": 26,
   "metadata": {
    "collapsed": true
   },
   "outputs": [],
   "source": [
    "a,features_train_porter,labels_train_porter = vect_rep(train_df, test_df, \"porter\",\"train\")\n",
    "b,features_train_lem,labels_train_lem = vect_rep(train_df, test_df, \"lem\",\"train\")"
   ]
  },
  {
   "cell_type": "code",
   "execution_count": 28,
   "metadata": {
    "collapsed": true
   },
   "outputs": [],
   "source": [
    "c,features_test_porter,labels_test_porter = vect_rep(train_df, test_df, \"porter\",\"test\")\n",
    "d,features_test_lem,labels_test_lem = vect_rep(train_df, test_df, \"lem\",\"test\")"
   ]
  },
  {
   "cell_type": "code",
   "execution_count": 16,
   "metadata": {},
   "outputs": [
    {
     "name": "stdout",
     "output_type": "stream",
     "text": [
      "Las 15 palabras mas frecuentes para el conjunto de entrenamiento\n",
      "PorterStemmer     wordlemmatizer\n",
      "----------------  ------------------\n",
      "[575, 'film']     [567, 'film']\n",
      "[477, 'movi']     [481, 'movie']\n",
      "[425, 'thi']      [266, 'not']\n",
      "[269, 'not']      [246, 'one']\n",
      "[268, 'like']     [245, 'like']\n",
      "[245, 'one']      [224, 'ha']\n",
      "[224, 'ha']       [183, 'make']\n",
      "[207, 'make']     [176, 'story']\n",
      "[179, 'hi']       [163, 'character']\n",
      "[176, 'stori']    [145, 'comedy']\n",
      "[161, 'charact']  [143, 'time']\n",
      "[148, 'time']     [143, 'even']\n",
      "[144, 'good']     [141, 'good']\n",
      "[144, 'even']     [128, 'much']\n",
      "[142, 'comedi']   [127, 'doe']\n",
      "\n",
      "\n",
      "Las 15 palabras mas frecuentes para el conjunto de prueba\n",
      "PorterStemmer     wordlemmatizer\n",
      "----------------  ------------------\n",
      "[572, 'film']     [558, 'film']\n",
      "[530, 'movi']     [541, 'movie']\n",
      "[514, 'thi']      [278, 'not']\n",
      "[281, 'not']      [250, 'one']\n",
      "[250, 'one']      [238, 'ha']\n",
      "[248, 'like']     [230, 'like']\n",
      "[238, 'ha']       [197, 'story']\n",
      "[196, 'stori']    [175, 'character']\n",
      "[187, 'make']     [165, 'time']\n",
      "[184, 'hi']       [161, 'make']\n",
      "[171, 'charact']  [134, 'comedy']\n",
      "[163, 'time']     [132, 'good']\n",
      "[134, 'good']     [132, 'doe']\n",
      "[132, 'doe']      [129, 'even']\n",
      "[131, 'even']     [124, 'much']\n"
     ]
    }
   ],
   "source": [
    "n = 15\n",
    "\n",
    "tab_train = tab(a,b,n)\n",
    "tab_test = tab(c,d,n)\n",
    "print(\"Las\",n,\"palabras mas frecuentes para el conjunto de entrenamiento\")\n",
    "print(tabulate(tab_train, headers=['PorterStemmer', 'wordlemmatizer']))\n",
    "print(\"\\n\")\n",
    "print(\"Las\",n,\"palabras mas frecuentes para el conjunto de prueba\")\n",
    "print(tabulate(tab_test, headers=['PorterStemmer', 'wordlemmatizer']))\n"
   ]
  },
  {
   "cell_type": "markdown",
   "metadata": {},
   "source": [
    "### (e) Construya una función que evalúe el desempeño obtenido por un clasificador genérico en el conjunto de entrenamiento y en el conjunto de pruebas. Utilice y explique las métricas que calcula la función classification report de la librería sklearn."
   ]
  },
  {
   "cell_type": "code",
   "execution_count": 22,
   "metadata": {
    "collapsed": true
   },
   "outputs": [],
   "source": [
    "from sklearn.metrics import classification_report\n",
    "\n",
    "def score_the_model(model,x,y,xt,yt,text):\n",
    "    acc_tr = model.score(x,y)\n",
    "    acc_test = model.score(xt[:-1],yt[:-1])\n",
    "    print(\"Training Accuracy %s: %f\"%(text,acc_tr))\n",
    "    print(\"Test Accuracy %s: %f\"%(text,acc_test))\n",
    "    print( \"Detailed Analysis Testing Results ...\")\n",
    "    print(classification_report(yt, model.predict(xt), target_names=['+','-']))\n"
   ]
  },
  {
   "cell_type": "markdown",
   "metadata": {},
   "source": [
    "http://blog.exsilio.com/all/accuracy-precision-recall-f1-score-interpretation-of-performance-measures/\n",
    "\n",
    "Tenemos que las metricas que entrega la funcion classification report son un resumen de texto de:\n",
    "    \n",
    "Precision:  La precisión es el ratio entre las observaciones positivas predichas correctamente y las observaciones positivas predichas totales.Su calculo esta dado por: \n",
    "\n",
    "$\\displaystyle \\frac{\\text{verdadero postivo}}{\\text{verdaro positivo} + \\text{falso positivo}}$\n",
    "    \n",
    "Recall: Esta metrica representa el ratio de observaciones positivas predichas correctamente del total de observaciones en la clase actual. Su calculo esta dado por: \n",
    "\n",
    "$\\displaystyle \\frac{\\text{verdadero postivo}}{\\text{verdaro positivo} + \\text{falso positivo}}$\n",
    "\n",
    "F1 score: Se puede interpretar como un promedio ponderado de la precisión y el recall, donde alcanza su mejor valor en 1 y el peor puntaje en 0. La contribución relativa de la precisión y el recall son iguales. Su calculo esta dado por:\n",
    "\n",
    " $\\displaystyle F1 = 2 * \\frac{precision * recall}{precision + recall}$"
   ]
  },
  {
   "cell_type": "markdown",
   "metadata": {},
   "source": [
    "### (f) Construya una función que entrene/ajuste un clasificador Bayesiano Ingenuo (Binario) (las caracteristicas no nulas serán tratadas como 1) y mida el error de predicción obtenido sobre los datos de entrenamiento y pruebas. \n",
    "### Utilice esta función con las características extraídas en el punto (d). Mida el efecto de filtrar stopwords y de eliminar este paso de pre-procesamiento típico. \n",
    "### Determine además, qué representación obtiene un mejor resultado: si aquella obtenida vía lematización o aquella obtenida vía stemming. \n",
    "### Finalmente, tome un subconjunto aleatorio de los textos de prueba y analice las predicciones del modelo (explore las predicciones, así como las probabilidades que el clasificador asigna a cada clase).\n"
   ]
  },
  {
   "cell_type": "code",
   "execution_count": 94,
   "metadata": {},
   "outputs": [
    {
     "name": "stdout",
     "output_type": "stream",
     "text": [
      "usando porter\n",
      "-------------------------------------------------------------------\n",
      "Training Accuracy BernoulliNB: 0.942600\n",
      "Test Accuracy BernoulliNB: 0.748100\n",
      "Detailed Analysis Testing Results ...\n",
      "             precision    recall  f1-score   support\n",
      "\n",
      "          +       0.76      0.75      0.75      1803\n",
      "          -       0.74      0.75      0.75      1751\n",
      "\n",
      "avg / total       0.75      0.75      0.75      3554\n",
      "\n",
      "=========================  =================================================================================================================================================================================================================================================\n",
      "Sentiment                  Text\n",
      "=========================  =================================================================================================================================================================================================================================================\n",
      "[ 0.96919829  0.03080171]  if you saw it on tv , you'd probably turn it off , convinced that you had already seen that movie .\n",
      "[ 0.30113828  0.69886172]  pull[s] off the rare trick of recreating not only the look of a certain era , but also the feel .\n",
      "[ 0.38533967  0.61466033]  since the movie is based on a nicholas sparks best seller , you know death is lurking around the corner , just waiting to spoil things .\n",
      "[ 0.67346827  0.32653173]  bears resemblance to , and shares the weaknesses of , too many recent action-fantasy extravaganzas in which special effects overpower cogent story-telling and visual clarity during the big action sequences .\n",
      "[ 0.04292668  0.95707332]  everything that has to do with yvan and charlotte , and everything that has to do with yvan's rambunctious , jewish sister and her non-jew husband , feels funny and true .\n",
      "[ 0.6166343  0.3833657]    the story really has no place to go since simone is not real—she can't provide any conflict .\n",
      "[ 0.96542604  0.03457396]  a man leaving the screening said the film was better than saving private ryan . he may have meant the internet short saving ryan's privates . but windtalkers doesn't beat that one , either .\n",
      "[ 0.30292797  0.69707203]  not always too whimsical for its own good ( but enough to do harm ) , this strange hybrid of crime thriller , quirky character study , third-rate romance and female empowerment fantasy never really finds the tonal or thematic glue it needs .\n",
      "[ 0.09097455  0.90902545]  thrilling , provocative and darkly funny , this timely sci-fi mystery works on so many different levels that it not only invites , it demands repeated viewings .\n",
      "[ 0.00725122  0.99274878]  flawed , but worth seeing for ambrose's performance .\n",
      "[ 0.51781755  0.48218245]  a clever blend of fact and fiction .\n",
      "[ 0.84426691  0.15573309]  the great pity is that those responsible didn't cut their losses – and ours – and retitle it the adventures of direct-to-video nash , and send it to its proper home .\n",
      "[ 0.32720126  0.67279874]  an oddity , to be sure , but one that you might wind up remembering with a degree of affection rather than revulsion .\n",
      "[ 0.37734925  0.62265075]  it has more in common with a fireworks display than a movie , which normally is expected to have characters and a storyline .\n",
      "[ 0.19569554  0.80430446]  by presenting an impossible romance in an impossible world , pumpkin dares us to say why either is impossible -- which forces us to confront what's possible and what we might do to make it so .\n",
      "=========================  =================================================================================================================================================================================================================================================\n",
      "\n",
      "\n",
      "usando lematizacionr\n",
      "-------------------------------------------------------------------\n",
      "Training Accuracy BernoulliNB: 0.958920\n",
      "Test Accuracy BernoulliNB: 0.737968\n",
      "Detailed Analysis Testing Results ...\n",
      "             precision    recall  f1-score   support\n",
      "\n",
      "          +       0.75      0.73      0.74      1803\n",
      "          -       0.73      0.75      0.74      1751\n",
      "\n",
      "avg / total       0.74      0.74      0.74      3554\n",
      "\n",
      "=========================  ==================================================================================================================================================================================================================================================================\n",
      "Sentiment                  Text\n",
      "=========================  ==================================================================================================================================================================================================================================================================\n",
      "[ 0.67433937  0.32566063]  narc is a no-bull throwback to 1970s action films . it zips along with b-movie verve while adding the rich details and go-for-broke acting that heralds something special .\n",
      "[ 0.91056297  0.08943703]  full of witless jokes , dealing in broad stereotypes and outrageously unbelievable scenarios , and saddled with a general air of misogyny\n",
      "[ 0.11931433  0.88068567]  fancy a real downer ? [leigh] lays it on so thick this time that it feels like a suicide race .\n",
      "[ 0.98569261  0.01430739]  it's mighty tedious for the viewer who has to contend with unpleasant characters , hit-and-miss performances and awkwardly staged scenes .\n",
      "[ 0.87947067  0.12052933]  this is a truly , truly bad movie .\n",
      "[ 0.05650876  0.94349124]  spielberg's realization of a near-future america is masterful . this makes minority report necessary viewing for sci-fi fans , as the film has some of the best special effects ever .\n",
      "[ 0.32132882  0.67867118]  . . . an unimaginative , nasty , glibly cynical piece of work .\n",
      "[ 0.6654791  0.3345209]    you're too conscious of the effort it takes to be this spontaneous .\n",
      "[ 0.46504201  0.53495799]  labute can't avoid a fatal mistake in the modern era : he's changed the male academic from a lower-class brit to an american , a choice that upsets the novel's exquisite balance and shreds the fabric of the film .\n",
      "[ 0.98527386  0.01472614]  the screenplay flounders under the weight of too many story lines .\n",
      "[ 0.96096064  0.03903936]  a full world has been presented onscreen , not some series of carefully structured plot points building to a pat resolution .\n",
      "[ 0.03797626  0.96202374]  despite its floating narrative , this is a remarkably accessible and haunting film .\n",
      "[ 0.68273868  0.31726132]  it's a bit disappointing that it only manages to be decent instead of dead brilliant .\n",
      "[ 0.16446141  0.83553859]  [ferrera] has the charisma of a young woman who knows how to hold the screen .\n",
      "[ 0.0024768  0.9975232]    sitting in the third row of the imax cinema at sydney's darling harbour , but i sometimes felt as though i was in the tiny two seater plane that carried the giant camera around australia , sweeping and gliding , banking and hovering over some of the most not\n",
      "=========================  ==================================================================================================================================================================================================================================================================\n"
     ]
    }
   ],
   "source": [
    "from sklearn.naive_bayes import BernoulliNB\n",
    "import random\n",
    "\n",
    "\n",
    "def do_NAIVE_BAYES(x,y,xt,yt):\n",
    "    model = BernoulliNB()\n",
    "    model = model.fit(x, y)\n",
    "    score_the_model(model,x,y,xt,yt,\"BernoulliNB\")\n",
    "    return model\n",
    "\n",
    "def get_model_metrics(features_train,labels_train, features_test, labels_test):\n",
    "    model=do_NAIVE_BAYES(features_train,labels_train,features_test,labels_test) \n",
    "    #Retorna la probabilidad de pertenencia para cada clase del modelo usando el vector de test.\n",
    "    test_pred = model.predict_proba(features_test)\n",
    "    #Selecciona de forma aleatorea la posicion de 15 elementos en el vector test_pred.\n",
    "    spl = random.sample(range(len(test_pred)), 15)\n",
    "    data = []\n",
    "    for text, sentiment in zip(test_df.Text[spl], test_pred[spl]):\n",
    "        data.append([sentiment, text])\n",
    "    print(tabulate(data, headers=['Sentiment', 'Text'],tablefmt=\"rst\"))\n",
    "\n",
    "print(\"usando porter\")\n",
    "print(\"-------------------------------------------------------------------\")\n",
    "get_model_metrics(features_train_porter, labels_train_porter, features_test_porter,labels_test_porter)\n",
    "print(\"\\n\")\n",
    "print(\"usando lematizacionr\")\n",
    "print(\"-------------------------------------------------------------------\")\n",
    "get_model_metrics(features_train_lem, labels_train_lem, features_test_lem,labels_test_lem)"
   ]
  },
  {
   "cell_type": "code",
   "execution_count": 89,
   "metadata": {},
   "outputs": [
    {
     "data": {
      "text/plain": [
       "\"as weber and weissman demonstrate with such insight and celebratory verve , the cockettes weren't as much about gender , sexual preference or political agitprop as they were simply a triumph of the indomitable human will to rebel , connect and create .\\n\""
      ]
     },
     "execution_count": 89,
     "metadata": {},
     "output_type": "execute_result"
    }
   ],
   "source": [
    "test_df.Text[850]"
   ]
  },
  {
   "cell_type": "code",
   "execution_count": 50,
   "metadata": {},
   "outputs": [
    {
     "name": "stdout",
     "output_type": "stream",
     "text": [
      "Training Accuracy BernoulliNB: 0.942600\n",
      "Test Accuracy BernoulliNB: 0.748100\n",
      "Detailed Analysis Testing Results ...\n",
      "             precision    recall  f1-score   support\n",
      "\n",
      "          +       0.76      0.75      0.75      1803\n",
      "          -       0.74      0.75      0.75      1751\n",
      "\n",
      "avg / total       0.75      0.75      0.75      3554\n",
      "\n",
      "None\n"
     ]
    }
   ],
   "source": [
    "model=do_NAIVE_BAYES(features_train,labels_train,features_test,labels_test)\n",
    "print(model)"
   ]
  },
  {
   "cell_type": "markdown",
   "metadata": {},
   "source": [
    "### (g) Construya una función que entrene/ajuste una Máquina de Vectores de Soporte (SVM) Lineal y mida el error de predicción obtenido sobre los datos de entrenamiento y pruebas. Incluya en su función la exploración de diferentes valores del parámetro de regularización C. Discuta el significado y efecto esperado de este parámetro. Utilice la función construida con los atributos extraídos en el punto (d). Mida el efecto de filtrar stopwords y de eliminar este paso de pre-procesamiento típico. Determine además, qué representación obtiene un mejor resultado: si aquella obtenida vía lematización o aquella obtenida vía stemming. Finalmente, tome un subconjunto aleatorio de los textos de prueba y analice las predicciones del modelo (explore las predicciones, así como las probabilidades que el clasificador asigna a cada clase)."
   ]
  },
  {
   "cell_type": "code",
   "execution_count": 31,
   "metadata": {},
   "outputs": [
    {
     "name": "stdout",
     "output_type": "stream",
     "text": [
      "C Value: 0.010000\n",
      "Training Accuracy SVM: 0.872538\n",
      "Test Accuracy SVM: 0.729243\n",
      "Detailed Analysis Testing Results ...\n",
      "             precision    recall  f1-score   support\n",
      "\n",
      "          +       0.73      0.75      0.74      1803\n",
      "          -       0.73      0.71      0.72      1751\n",
      "\n",
      "avg / total       0.73      0.73      0.73      3554\n",
      "\n",
      "C Value: 0.100000\n",
      "Training Accuracy SVM: 0.981711\n",
      "Test Accuracy SVM: 0.733465\n",
      "Detailed Analysis Testing Results ...\n",
      "             precision    recall  f1-score   support\n",
      "\n",
      "          +       0.74      0.74      0.74      1803\n",
      "          -       0.73      0.73      0.73      1751\n",
      "\n",
      "avg / total       0.73      0.73      0.73      3554\n",
      "\n",
      "C Value: 10.000000\n",
      "Training Accuracy SVM: 1.000000\n",
      "Test Accuracy SVM: 0.705319\n",
      "Detailed Analysis Testing Results ...\n",
      "             precision    recall  f1-score   support\n",
      "\n",
      "          +       0.72      0.69      0.70      1803\n",
      "          -       0.69      0.72      0.71      1751\n",
      "\n",
      "avg / total       0.71      0.71      0.71      3554\n",
      "\n",
      "C Value: 100.000000\n",
      "Training Accuracy SVM: 1.000000\n",
      "Test Accuracy SVM: 0.703068\n",
      "Detailed Analysis Testing Results ...\n",
      "             precision    recall  f1-score   support\n",
      "\n",
      "          +       0.71      0.69      0.70      1803\n",
      "          -       0.69      0.71      0.70      1751\n",
      "\n",
      "avg / total       0.70      0.70      0.70      3554\n",
      "\n",
      "C Value: 1000.000000\n",
      "Training Accuracy SVM: 1.000000\n",
      "Test Accuracy SVM: 0.702505\n",
      "Detailed Analysis Testing Results ...\n",
      "             precision    recall  f1-score   support\n",
      "\n",
      "          +       0.71      0.69      0.70      1803\n",
      "          -       0.69      0.71      0.70      1751\n",
      "\n",
      "avg / total       0.70      0.70      0.70      3554\n",
      "\n"
     ]
    }
   ],
   "source": [
    "from sklearn.svm import LinearSVC\n",
    "def do_SVM(x,y,xt,yt):\n",
    "    Cs = [0.01,0.1,10,100,1000]\n",
    "    for C in Cs:\n",
    "        print(\"C Value: %f\"%C)\n",
    "        model = LinearSVC(C=C)\n",
    "        model = model.fit(x, y)\n",
    "        score_the_model(model,x,y,xt,yt,\"SVM\")\n",
    "\n",
    "do_SVM(features_train,labels_train,features_test,labels_test)"
   ]
  },
  {
   "cell_type": "code",
   "execution_count": null,
   "metadata": {
    "collapsed": true
   },
   "outputs": [],
   "source": []
  }
 ],
 "metadata": {
  "anaconda-cloud": {},
  "kernelspec": {
   "display_name": "Python [default]",
   "language": "python",
   "name": "python3"
  },
  "language_info": {
   "codemirror_mode": {
    "name": "ipython",
    "version": 3
   },
   "file_extension": ".py",
   "mimetype": "text/x-python",
   "name": "python",
   "nbconvert_exporter": "python",
   "pygments_lexer": "ipython3",
   "version": "3.5.4"
  }
 },
 "nbformat": 4,
 "nbformat_minor": 2
}
